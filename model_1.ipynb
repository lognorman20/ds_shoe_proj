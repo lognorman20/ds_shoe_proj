{
 "metadata": {
  "language_info": {
   "codemirror_mode": {
    "name": "ipython",
    "version": 3
   },
   "file_extension": ".py",
   "mimetype": "text/x-python",
   "name": "python",
   "nbconvert_exporter": "python",
   "pygments_lexer": "ipython3",
   "version": "3.8.5-final"
  },
  "orig_nbformat": 2,
  "kernelspec": {
   "name": "python_defaultSpec_1599344822001",
   "display_name": "Python 3.8.5 64-bit"
  }
 },
 "nbformat": 4,
 "nbformat_minor": 2,
 "cells": [
  {
   "cell_type": "code",
   "execution_count": 1,
   "metadata": {},
   "outputs": [],
   "source": [
    "import pandas as pd"
   ]
  },
  {
   "cell_type": "code",
   "execution_count": 6,
   "metadata": {},
   "outputs": [
    {
     "output_type": "execute_result",
     "data": {
      "text/plain": "       Order Date   Brand                                   Sneaker Name  \\\n0      2017-09-01   Yeezy           Adidas Yeezy Boost 350 Low V2 Beluga   \n1      2017-09-01   Yeezy    Adidas Yeezy Boost 350 V2 Core Black Copper   \n2      2017-09-01   Yeezy     Adidas Yeezy Boost 350 V2 Core Black Green   \n3      2017-09-01   Yeezy       Adidas Yeezy Boost 350 V2 Core Black Red   \n4      2017-09-01   Yeezy  Adidas Yeezy Boost 350 V2 Core Black Red 2017   \n...           ...     ...                                            ...   \n99951  2019-02-13   Yeezy    adidas Yeezy Boost 350 V2 Static Reflective   \n99952  2019-02-13   Yeezy    adidas Yeezy Boost 350 V2 Static Reflective   \n99953  2019-02-13   Yeezy    adidas Yeezy Boost 350 V2 Static Reflective   \n99954  2019-02-13   Yeezy    adidas Yeezy Boost 350 V2 Static Reflective   \n99955  2019-02-13   Yeezy    adidas Yeezy Boost 350 V2 Static Reflective   \n\n       Sale Price  Retail Price Release Date  Shoe Size  Buyer Region  \n0            1097           220   2016-09-24       11.0    California  \n1             685           220   2016-11-23       11.0    California  \n2             690           220   2016-11-23       11.0    California  \n3            1075           220   2016-11-23       11.5      Kentucky  \n4             828           220   2017-02-11       11.0  Rhode Island  \n...           ...           ...          ...        ...           ...  \n99951         565           220   2018-12-26        8.0        Oregon  \n99952         598           220   2018-12-26        8.5    California  \n99953         605           220   2018-12-26        5.5      New York  \n99954         650           220   2018-12-26       11.0    California  \n99955         640           220   2018-12-26       11.5         Texas  \n\n[99956 rows x 8 columns]",
      "text/html": "<div>\n<style scoped>\n    .dataframe tbody tr th:only-of-type {\n        vertical-align: middle;\n    }\n\n    .dataframe tbody tr th {\n        vertical-align: top;\n    }\n\n    .dataframe thead th {\n        text-align: right;\n    }\n</style>\n<table border=\"1\" class=\"dataframe\">\n  <thead>\n    <tr style=\"text-align: right;\">\n      <th></th>\n      <th>Order Date</th>\n      <th>Brand</th>\n      <th>Sneaker Name</th>\n      <th>Sale Price</th>\n      <th>Retail Price</th>\n      <th>Release Date</th>\n      <th>Shoe Size</th>\n      <th>Buyer Region</th>\n    </tr>\n  </thead>\n  <tbody>\n    <tr>\n      <th>0</th>\n      <td>2017-09-01</td>\n      <td>Yeezy</td>\n      <td>Adidas Yeezy Boost 350 Low V2 Beluga</td>\n      <td>1097</td>\n      <td>220</td>\n      <td>2016-09-24</td>\n      <td>11.0</td>\n      <td>California</td>\n    </tr>\n    <tr>\n      <th>1</th>\n      <td>2017-09-01</td>\n      <td>Yeezy</td>\n      <td>Adidas Yeezy Boost 350 V2 Core Black Copper</td>\n      <td>685</td>\n      <td>220</td>\n      <td>2016-11-23</td>\n      <td>11.0</td>\n      <td>California</td>\n    </tr>\n    <tr>\n      <th>2</th>\n      <td>2017-09-01</td>\n      <td>Yeezy</td>\n      <td>Adidas Yeezy Boost 350 V2 Core Black Green</td>\n      <td>690</td>\n      <td>220</td>\n      <td>2016-11-23</td>\n      <td>11.0</td>\n      <td>California</td>\n    </tr>\n    <tr>\n      <th>3</th>\n      <td>2017-09-01</td>\n      <td>Yeezy</td>\n      <td>Adidas Yeezy Boost 350 V2 Core Black Red</td>\n      <td>1075</td>\n      <td>220</td>\n      <td>2016-11-23</td>\n      <td>11.5</td>\n      <td>Kentucky</td>\n    </tr>\n    <tr>\n      <th>4</th>\n      <td>2017-09-01</td>\n      <td>Yeezy</td>\n      <td>Adidas Yeezy Boost 350 V2 Core Black Red 2017</td>\n      <td>828</td>\n      <td>220</td>\n      <td>2017-02-11</td>\n      <td>11.0</td>\n      <td>Rhode Island</td>\n    </tr>\n    <tr>\n      <th>...</th>\n      <td>...</td>\n      <td>...</td>\n      <td>...</td>\n      <td>...</td>\n      <td>...</td>\n      <td>...</td>\n      <td>...</td>\n      <td>...</td>\n    </tr>\n    <tr>\n      <th>99951</th>\n      <td>2019-02-13</td>\n      <td>Yeezy</td>\n      <td>adidas Yeezy Boost 350 V2 Static Reflective</td>\n      <td>565</td>\n      <td>220</td>\n      <td>2018-12-26</td>\n      <td>8.0</td>\n      <td>Oregon</td>\n    </tr>\n    <tr>\n      <th>99952</th>\n      <td>2019-02-13</td>\n      <td>Yeezy</td>\n      <td>adidas Yeezy Boost 350 V2 Static Reflective</td>\n      <td>598</td>\n      <td>220</td>\n      <td>2018-12-26</td>\n      <td>8.5</td>\n      <td>California</td>\n    </tr>\n    <tr>\n      <th>99953</th>\n      <td>2019-02-13</td>\n      <td>Yeezy</td>\n      <td>adidas Yeezy Boost 350 V2 Static Reflective</td>\n      <td>605</td>\n      <td>220</td>\n      <td>2018-12-26</td>\n      <td>5.5</td>\n      <td>New York</td>\n    </tr>\n    <tr>\n      <th>99954</th>\n      <td>2019-02-13</td>\n      <td>Yeezy</td>\n      <td>adidas Yeezy Boost 350 V2 Static Reflective</td>\n      <td>650</td>\n      <td>220</td>\n      <td>2018-12-26</td>\n      <td>11.0</td>\n      <td>California</td>\n    </tr>\n    <tr>\n      <th>99955</th>\n      <td>2019-02-13</td>\n      <td>Yeezy</td>\n      <td>adidas Yeezy Boost 350 V2 Static Reflective</td>\n      <td>640</td>\n      <td>220</td>\n      <td>2018-12-26</td>\n      <td>11.5</td>\n      <td>Texas</td>\n    </tr>\n  </tbody>\n</table>\n<p>99956 rows × 8 columns</p>\n</div>"
     },
     "metadata": {},
     "execution_count": 6
    }
   ],
   "source": [
    "# Reading in the data\n",
    "shoe_data = pd.read_csv('/Users/logno/Documents/Home/BAF1/ds_shoe_proj/Clean_Shoe_Data.csv')\n",
    "df = shoe_data.copy()\n",
    "df"
   ]
  },
  {
   "cell_type": "code",
   "execution_count": 8,
   "metadata": {},
   "outputs": [
    {
     "output_type": "execute_result",
     "data": {
      "text/plain": "       Order_date   Brand                                   Sneaker_Name  \\\n0      2017-09-01   Yeezy           Adidas Yeezy Boost 350 Low V2 Beluga   \n1      2017-09-01   Yeezy    Adidas Yeezy Boost 350 V2 Core Black Copper   \n2      2017-09-01   Yeezy     Adidas Yeezy Boost 350 V2 Core Black Green   \n3      2017-09-01   Yeezy       Adidas Yeezy Boost 350 V2 Core Black Red   \n4      2017-09-01   Yeezy  Adidas Yeezy Boost 350 V2 Core Black Red 2017   \n...           ...     ...                                            ...   \n99951  2019-02-13   Yeezy    adidas Yeezy Boost 350 V2 Static Reflective   \n99952  2019-02-13   Yeezy    adidas Yeezy Boost 350 V2 Static Reflective   \n99953  2019-02-13   Yeezy    adidas Yeezy Boost 350 V2 Static Reflective   \n99954  2019-02-13   Yeezy    adidas Yeezy Boost 350 V2 Static Reflective   \n99955  2019-02-13   Yeezy    adidas Yeezy Boost 350 V2 Static Reflective   \n\n       Sale_Price  Retail_Price Release_Date  Shoe_Size  Buyer_Region  \n0            1097           220   2016-09-24       11.0    California  \n1             685           220   2016-11-23       11.0    California  \n2             690           220   2016-11-23       11.0    California  \n3            1075           220   2016-11-23       11.5      Kentucky  \n4             828           220   2017-02-11       11.0  Rhode Island  \n...           ...           ...          ...        ...           ...  \n99951         565           220   2018-12-26        8.0        Oregon  \n99952         598           220   2018-12-26        8.5    California  \n99953         605           220   2018-12-26        5.5      New York  \n99954         650           220   2018-12-26       11.0    California  \n99955         640           220   2018-12-26       11.5         Texas  \n\n[99956 rows x 8 columns]",
      "text/html": "<div>\n<style scoped>\n    .dataframe tbody tr th:only-of-type {\n        vertical-align: middle;\n    }\n\n    .dataframe tbody tr th {\n        vertical-align: top;\n    }\n\n    .dataframe thead th {\n        text-align: right;\n    }\n</style>\n<table border=\"1\" class=\"dataframe\">\n  <thead>\n    <tr style=\"text-align: right;\">\n      <th></th>\n      <th>Order_date</th>\n      <th>Brand</th>\n      <th>Sneaker_Name</th>\n      <th>Sale_Price</th>\n      <th>Retail_Price</th>\n      <th>Release_Date</th>\n      <th>Shoe_Size</th>\n      <th>Buyer_Region</th>\n    </tr>\n  </thead>\n  <tbody>\n    <tr>\n      <th>0</th>\n      <td>2017-09-01</td>\n      <td>Yeezy</td>\n      <td>Adidas Yeezy Boost 350 Low V2 Beluga</td>\n      <td>1097</td>\n      <td>220</td>\n      <td>2016-09-24</td>\n      <td>11.0</td>\n      <td>California</td>\n    </tr>\n    <tr>\n      <th>1</th>\n      <td>2017-09-01</td>\n      <td>Yeezy</td>\n      <td>Adidas Yeezy Boost 350 V2 Core Black Copper</td>\n      <td>685</td>\n      <td>220</td>\n      <td>2016-11-23</td>\n      <td>11.0</td>\n      <td>California</td>\n    </tr>\n    <tr>\n      <th>2</th>\n      <td>2017-09-01</td>\n      <td>Yeezy</td>\n      <td>Adidas Yeezy Boost 350 V2 Core Black Green</td>\n      <td>690</td>\n      <td>220</td>\n      <td>2016-11-23</td>\n      <td>11.0</td>\n      <td>California</td>\n    </tr>\n    <tr>\n      <th>3</th>\n      <td>2017-09-01</td>\n      <td>Yeezy</td>\n      <td>Adidas Yeezy Boost 350 V2 Core Black Red</td>\n      <td>1075</td>\n      <td>220</td>\n      <td>2016-11-23</td>\n      <td>11.5</td>\n      <td>Kentucky</td>\n    </tr>\n    <tr>\n      <th>4</th>\n      <td>2017-09-01</td>\n      <td>Yeezy</td>\n      <td>Adidas Yeezy Boost 350 V2 Core Black Red 2017</td>\n      <td>828</td>\n      <td>220</td>\n      <td>2017-02-11</td>\n      <td>11.0</td>\n      <td>Rhode Island</td>\n    </tr>\n    <tr>\n      <th>...</th>\n      <td>...</td>\n      <td>...</td>\n      <td>...</td>\n      <td>...</td>\n      <td>...</td>\n      <td>...</td>\n      <td>...</td>\n      <td>...</td>\n    </tr>\n    <tr>\n      <th>99951</th>\n      <td>2019-02-13</td>\n      <td>Yeezy</td>\n      <td>adidas Yeezy Boost 350 V2 Static Reflective</td>\n      <td>565</td>\n      <td>220</td>\n      <td>2018-12-26</td>\n      <td>8.0</td>\n      <td>Oregon</td>\n    </tr>\n    <tr>\n      <th>99952</th>\n      <td>2019-02-13</td>\n      <td>Yeezy</td>\n      <td>adidas Yeezy Boost 350 V2 Static Reflective</td>\n      <td>598</td>\n      <td>220</td>\n      <td>2018-12-26</td>\n      <td>8.5</td>\n      <td>California</td>\n    </tr>\n    <tr>\n      <th>99953</th>\n      <td>2019-02-13</td>\n      <td>Yeezy</td>\n      <td>adidas Yeezy Boost 350 V2 Static Reflective</td>\n      <td>605</td>\n      <td>220</td>\n      <td>2018-12-26</td>\n      <td>5.5</td>\n      <td>New York</td>\n    </tr>\n    <tr>\n      <th>99954</th>\n      <td>2019-02-13</td>\n      <td>Yeezy</td>\n      <td>adidas Yeezy Boost 350 V2 Static Reflective</td>\n      <td>650</td>\n      <td>220</td>\n      <td>2018-12-26</td>\n      <td>11.0</td>\n      <td>California</td>\n    </tr>\n    <tr>\n      <th>99955</th>\n      <td>2019-02-13</td>\n      <td>Yeezy</td>\n      <td>adidas Yeezy Boost 350 V2 Static Reflective</td>\n      <td>640</td>\n      <td>220</td>\n      <td>2018-12-26</td>\n      <td>11.5</td>\n      <td>Texas</td>\n    </tr>\n  </tbody>\n</table>\n<p>99956 rows × 8 columns</p>\n</div>"
     },
     "metadata": {},
     "execution_count": 8
    }
   ],
   "source": [
    "# Renaming columns to get rid of spaces \n",
    "df.rename(columns={\n",
    "    \"Order Date\": \"Order_date\",\n",
    "    \"Sneaker Name\": \"Sneaker_Name\",\n",
    "    \"Sale Price\": \"Sale_Price\",\n",
    "    \"Retail Price\": \"Retail_Price\",\n",
    "    \"Release Date\": \"Release_Date\",\n",
    "    \"Shoe Size\": \"Shoe_Size\",\n",
    "    \"Buyer Region\": \"Buyer_Region\"\n",
    "    })"
   ]
  },
  {
   "cell_type": "code",
   "execution_count": null,
   "metadata": {},
   "outputs": [],
   "source": []
  }
 ]
}