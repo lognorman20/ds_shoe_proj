{
 "metadata": {
  "language_info": {
   "codemirror_mode": {
    "name": "ipython",
    "version": 3
   },
   "file_extension": ".py",
   "mimetype": "text/x-python",
   "name": "python",
   "nbconvert_exporter": "python",
   "pygments_lexer": "ipython3",
   "version": "3.8.5-final"
  },
  "orig_nbformat": 2,
  "kernelspec": {
   "name": "python_defaultSpec_1599344822001",
   "display_name": "Python 3.8.5 64-bit"
  }
 },
 "nbformat": 4,
 "nbformat_minor": 2,
 "cells": [
  {
   "cell_type": "code",
   "execution_count": 174,
   "metadata": {},
   "outputs": [],
   "source": [
    "import pandas as pd\n",
    "import numpy as np\n",
    "import seaborn as sns\n",
    "import matplotlib.pyplot as plt\n",
    "import matplotlib.ticker as plticker\n",
    "%matplotlib inline"
   ]
  },
  {
   "cell_type": "code",
   "execution_count": 175,
   "metadata": {},
   "outputs": [
    {
     "output_type": "execute_result",
     "data": {
      "text/plain": "       Order Date   Brand                                   Sneaker Name  \\\n0      2017-09-01   Yeezy           Adidas Yeezy Boost 350 Low V2 Beluga   \n1      2017-09-01   Yeezy    Adidas Yeezy Boost 350 V2 Core Black Copper   \n2      2017-09-01   Yeezy     Adidas Yeezy Boost 350 V2 Core Black Green   \n3      2017-09-01   Yeezy       Adidas Yeezy Boost 350 V2 Core Black Red   \n4      2017-09-01   Yeezy  Adidas Yeezy Boost 350 V2 Core Black Red 2017   \n...           ...     ...                                            ...   \n99951  2019-02-13   Yeezy    adidas Yeezy Boost 350 V2 Static Reflective   \n99952  2019-02-13   Yeezy    adidas Yeezy Boost 350 V2 Static Reflective   \n99953  2019-02-13   Yeezy    adidas Yeezy Boost 350 V2 Static Reflective   \n99954  2019-02-13   Yeezy    adidas Yeezy Boost 350 V2 Static Reflective   \n99955  2019-02-13   Yeezy    adidas Yeezy Boost 350 V2 Static Reflective   \n\n       Sale Price  Retail Price Release Date  Shoe Size  Buyer Region  \n0            1097           220   2016-09-24       11.0    California  \n1             685           220   2016-11-23       11.0    California  \n2             690           220   2016-11-23       11.0    California  \n3            1075           220   2016-11-23       11.5      Kentucky  \n4             828           220   2017-02-11       11.0  Rhode Island  \n...           ...           ...          ...        ...           ...  \n99951         565           220   2018-12-26        8.0        Oregon  \n99952         598           220   2018-12-26        8.5    California  \n99953         605           220   2018-12-26        5.5      New York  \n99954         650           220   2018-12-26       11.0    California  \n99955         640           220   2018-12-26       11.5         Texas  \n\n[99956 rows x 8 columns]",
      "text/html": "<div>\n<style scoped>\n    .dataframe tbody tr th:only-of-type {\n        vertical-align: middle;\n    }\n\n    .dataframe tbody tr th {\n        vertical-align: top;\n    }\n\n    .dataframe thead th {\n        text-align: right;\n    }\n</style>\n<table border=\"1\" class=\"dataframe\">\n  <thead>\n    <tr style=\"text-align: right;\">\n      <th></th>\n      <th>Order Date</th>\n      <th>Brand</th>\n      <th>Sneaker Name</th>\n      <th>Sale Price</th>\n      <th>Retail Price</th>\n      <th>Release Date</th>\n      <th>Shoe Size</th>\n      <th>Buyer Region</th>\n    </tr>\n  </thead>\n  <tbody>\n    <tr>\n      <th>0</th>\n      <td>2017-09-01</td>\n      <td>Yeezy</td>\n      <td>Adidas Yeezy Boost 350 Low V2 Beluga</td>\n      <td>1097</td>\n      <td>220</td>\n      <td>2016-09-24</td>\n      <td>11.0</td>\n      <td>California</td>\n    </tr>\n    <tr>\n      <th>1</th>\n      <td>2017-09-01</td>\n      <td>Yeezy</td>\n      <td>Adidas Yeezy Boost 350 V2 Core Black Copper</td>\n      <td>685</td>\n      <td>220</td>\n      <td>2016-11-23</td>\n      <td>11.0</td>\n      <td>California</td>\n    </tr>\n    <tr>\n      <th>2</th>\n      <td>2017-09-01</td>\n      <td>Yeezy</td>\n      <td>Adidas Yeezy Boost 350 V2 Core Black Green</td>\n      <td>690</td>\n      <td>220</td>\n      <td>2016-11-23</td>\n      <td>11.0</td>\n      <td>California</td>\n    </tr>\n    <tr>\n      <th>3</th>\n      <td>2017-09-01</td>\n      <td>Yeezy</td>\n      <td>Adidas Yeezy Boost 350 V2 Core Black Red</td>\n      <td>1075</td>\n      <td>220</td>\n      <td>2016-11-23</td>\n      <td>11.5</td>\n      <td>Kentucky</td>\n    </tr>\n    <tr>\n      <th>4</th>\n      <td>2017-09-01</td>\n      <td>Yeezy</td>\n      <td>Adidas Yeezy Boost 350 V2 Core Black Red 2017</td>\n      <td>828</td>\n      <td>220</td>\n      <td>2017-02-11</td>\n      <td>11.0</td>\n      <td>Rhode Island</td>\n    </tr>\n    <tr>\n      <th>...</th>\n      <td>...</td>\n      <td>...</td>\n      <td>...</td>\n      <td>...</td>\n      <td>...</td>\n      <td>...</td>\n      <td>...</td>\n      <td>...</td>\n    </tr>\n    <tr>\n      <th>99951</th>\n      <td>2019-02-13</td>\n      <td>Yeezy</td>\n      <td>adidas Yeezy Boost 350 V2 Static Reflective</td>\n      <td>565</td>\n      <td>220</td>\n      <td>2018-12-26</td>\n      <td>8.0</td>\n      <td>Oregon</td>\n    </tr>\n    <tr>\n      <th>99952</th>\n      <td>2019-02-13</td>\n      <td>Yeezy</td>\n      <td>adidas Yeezy Boost 350 V2 Static Reflective</td>\n      <td>598</td>\n      <td>220</td>\n      <td>2018-12-26</td>\n      <td>8.5</td>\n      <td>California</td>\n    </tr>\n    <tr>\n      <th>99953</th>\n      <td>2019-02-13</td>\n      <td>Yeezy</td>\n      <td>adidas Yeezy Boost 350 V2 Static Reflective</td>\n      <td>605</td>\n      <td>220</td>\n      <td>2018-12-26</td>\n      <td>5.5</td>\n      <td>New York</td>\n    </tr>\n    <tr>\n      <th>99954</th>\n      <td>2019-02-13</td>\n      <td>Yeezy</td>\n      <td>adidas Yeezy Boost 350 V2 Static Reflective</td>\n      <td>650</td>\n      <td>220</td>\n      <td>2018-12-26</td>\n      <td>11.0</td>\n      <td>California</td>\n    </tr>\n    <tr>\n      <th>99955</th>\n      <td>2019-02-13</td>\n      <td>Yeezy</td>\n      <td>adidas Yeezy Boost 350 V2 Static Reflective</td>\n      <td>640</td>\n      <td>220</td>\n      <td>2018-12-26</td>\n      <td>11.5</td>\n      <td>Texas</td>\n    </tr>\n  </tbody>\n</table>\n<p>99956 rows × 8 columns</p>\n</div>"
     },
     "metadata": {},
     "execution_count": 175
    }
   ],
   "source": [
    "# Reading in the data\n",
    "shoe_data = pd.read_csv('/Users/logno/Documents/Home/BAF1/ds_shoe_proj/Clean_Shoe_Data.csv', parse_dates = True)\n",
    "df = shoe_data.copy()\n",
    "df"
   ]
  },
  {
   "cell_type": "code",
   "execution_count": 176,
   "metadata": {},
   "outputs": [
    {
     "output_type": "execute_result",
     "data": {
      "text/plain": "Empty DataFrame\nColumns: [0]\nIndex: []",
      "text/html": "<div>\n<style scoped>\n    .dataframe tbody tr th:only-of-type {\n        vertical-align: middle;\n    }\n\n    .dataframe tbody tr th {\n        vertical-align: top;\n    }\n\n    .dataframe thead th {\n        text-align: right;\n    }\n</style>\n<table border=\"1\" class=\"dataframe\">\n  <thead>\n    <tr style=\"text-align: right;\">\n      <th></th>\n      <th>0</th>\n    </tr>\n  </thead>\n  <tbody>\n  </tbody>\n</table>\n</div>"
     },
     "metadata": {},
     "execution_count": 176
    }
   ],
   "source": [
    "# Checking for missing values in the dataset\n",
    "nulls = pd.concat([df.isnull().sum()], axis=1)\n",
    "nulls[nulls.sum(axis=1) > 0]"
   ]
  },
  {
   "cell_type": "code",
   "execution_count": 177,
   "metadata": {},
   "outputs": [
    {
     "output_type": "execute_result",
     "data": {
      "text/plain": "(99956, 8)"
     },
     "metadata": {},
     "execution_count": 177
    }
   ],
   "source": [
    "df.shape"
   ]
  },
  {
   "cell_type": "code",
   "execution_count": 178,
   "metadata": {},
   "outputs": [
    {
     "output_type": "execute_result",
     "data": {
      "text/plain": "<bound method DataFrame.info of        Order Date   Brand                                   Sneaker Name  \\\n0      2017-09-01   Yeezy           Adidas Yeezy Boost 350 Low V2 Beluga   \n1      2017-09-01   Yeezy    Adidas Yeezy Boost 350 V2 Core Black Copper   \n2      2017-09-01   Yeezy     Adidas Yeezy Boost 350 V2 Core Black Green   \n3      2017-09-01   Yeezy       Adidas Yeezy Boost 350 V2 Core Black Red   \n4      2017-09-01   Yeezy  Adidas Yeezy Boost 350 V2 Core Black Red 2017   \n...           ...     ...                                            ...   \n99951  2019-02-13   Yeezy    adidas Yeezy Boost 350 V2 Static Reflective   \n99952  2019-02-13   Yeezy    adidas Yeezy Boost 350 V2 Static Reflective   \n99953  2019-02-13   Yeezy    adidas Yeezy Boost 350 V2 Static Reflective   \n99954  2019-02-13   Yeezy    adidas Yeezy Boost 350 V2 Static Reflective   \n99955  2019-02-13   Yeezy    adidas Yeezy Boost 350 V2 Static Reflective   \n\n       Sale Price  Retail Price Release Date  Shoe Size  Buyer Region  \n0            1097           220   2016-09-24       11.0    California  \n1             685           220   2016-11-23       11.0    California  \n2             690           220   2016-11-23       11.0    California  \n3            1075           220   2016-11-23       11.5      Kentucky  \n4             828           220   2017-02-11       11.0  Rhode Island  \n...           ...           ...          ...        ...           ...  \n99951         565           220   2018-12-26        8.0        Oregon  \n99952         598           220   2018-12-26        8.5    California  \n99953         605           220   2018-12-26        5.5      New York  \n99954         650           220   2018-12-26       11.0    California  \n99955         640           220   2018-12-26       11.5         Texas  \n\n[99956 rows x 8 columns]>"
     },
     "metadata": {},
     "execution_count": 178
    }
   ],
   "source": [
    "df.info"
   ]
  },
  {
   "cell_type": "code",
   "execution_count": 179,
   "metadata": {},
   "outputs": [
    {
     "output_type": "execute_result",
     "data": {
      "text/plain": "         Sale Price  Retail Price     Shoe Size\ncount  99956.000000   99956.00000  99956.000000\nmean     446.634719     208.61359      9.344181\nstd      255.982969      25.20001      2.329588\nmin      186.000000     130.00000      3.500000\n25%      275.000000     220.00000      8.000000\n50%      370.000000     220.00000      9.500000\n75%      540.000000     220.00000     11.000000\nmax     4050.000000     250.00000     17.000000",
      "text/html": "<div>\n<style scoped>\n    .dataframe tbody tr th:only-of-type {\n        vertical-align: middle;\n    }\n\n    .dataframe tbody tr th {\n        vertical-align: top;\n    }\n\n    .dataframe thead th {\n        text-align: right;\n    }\n</style>\n<table border=\"1\" class=\"dataframe\">\n  <thead>\n    <tr style=\"text-align: right;\">\n      <th></th>\n      <th>Sale Price</th>\n      <th>Retail Price</th>\n      <th>Shoe Size</th>\n    </tr>\n  </thead>\n  <tbody>\n    <tr>\n      <th>count</th>\n      <td>99956.000000</td>\n      <td>99956.00000</td>\n      <td>99956.000000</td>\n    </tr>\n    <tr>\n      <th>mean</th>\n      <td>446.634719</td>\n      <td>208.61359</td>\n      <td>9.344181</td>\n    </tr>\n    <tr>\n      <th>std</th>\n      <td>255.982969</td>\n      <td>25.20001</td>\n      <td>2.329588</td>\n    </tr>\n    <tr>\n      <th>min</th>\n      <td>186.000000</td>\n      <td>130.00000</td>\n      <td>3.500000</td>\n    </tr>\n    <tr>\n      <th>25%</th>\n      <td>275.000000</td>\n      <td>220.00000</td>\n      <td>8.000000</td>\n    </tr>\n    <tr>\n      <th>50%</th>\n      <td>370.000000</td>\n      <td>220.00000</td>\n      <td>9.500000</td>\n    </tr>\n    <tr>\n      <th>75%</th>\n      <td>540.000000</td>\n      <td>220.00000</td>\n      <td>11.000000</td>\n    </tr>\n    <tr>\n      <th>max</th>\n      <td>4050.000000</td>\n      <td>250.00000</td>\n      <td>17.000000</td>\n    </tr>\n  </tbody>\n</table>\n</div>"
     },
     "metadata": {},
     "execution_count": 179
    }
   ],
   "source": [
    "df.describe()"
   ]
  },
  {
   "cell_type": "code",
   "execution_count": 180,
   "metadata": {},
   "outputs": [
    {
     "output_type": "execute_result",
     "data": {
      "text/plain": "Index(['Order Date', 'Brand', 'Sneaker Name', 'Sale Price', 'Retail Price',\n       'Release Date', 'Shoe Size', 'Buyer Region'],\n      dtype='object')"
     },
     "metadata": {},
     "execution_count": 180
    }
   ],
   "source": [
    "df.columns"
   ]
  },
  {
   "cell_type": "code",
   "execution_count": 181,
   "metadata": {},
   "outputs": [],
   "source": [
    "# Renaming columns to get rid of spaces \n",
    "df = df.rename(columns={\n",
    "    \"Order Date\": \"Order_date\",\n",
    "    \"Sneaker Name\": \"Sneaker_Name\",\n",
    "    \"Sale Price\": \"Sale_Price\",\n",
    "    \"Retail Price\": \"Retail_Price\",\n",
    "    \"Release Date\": \"Release_Date\",\n",
    "    \"Shoe Size\": \"Shoe_Size\",\n",
    "    \"Buyer Region\": \"Buyer_Region\"\n",
    "    })"
   ]
  },
  {
   "cell_type": "code",
   "execution_count": 182,
   "metadata": {},
   "outputs": [],
   "source": [
    "# Converting dates into numericals\n",
    "import datetime as dt\n",
    "\n",
    "df['Order_date'] = pd.to_datetime(df['Order_date'])\n",
    "df['Order_date']=df['Order_date'].map(dt.datetime.toordinal)\n",
    "\n",
    "df['Release_Date'] = pd.to_datetime(df['Release_Date'])\n",
    "df['Release_Date']=df['Release_Date'].map(dt.datetime.toordinal)"
   ]
  },
  {
   "cell_type": "code",
   "execution_count": 183,
   "metadata": {},
   "outputs": [],
   "source": [
    "# Starting the linear regression\n",
    "from sklearn import preprocessing, metrics\n",
    "from sklearn.model_selection import train_test_split\n",
    "\n",
    "X = df.drop(['Sale_Price'], axis=1)\n",
    "y = df.Sale_Price\n",
    "X_train, X_valid, y_train, y_valid = train_test_split(X, y, test_size=0.2)"
   ]
  },
  {
   "cell_type": "code",
   "execution_count": 184,
   "metadata": {},
   "outputs": [],
   "source": [
    "# Converting categorical data to numerical\n",
    "from sklearn.preprocessing import OneHotEncoder\n",
    "\n",
    "object_cols = ['Sneaker_Name', 'Buyer_Region', 'Brand']\n",
    "# Apply one-hot encoder to each column with categorical data\n",
    "OH_encoder = OneHotEncoder(handle_unknown='ignore', sparse=False)\n",
    "OH_cols_train = pd.DataFrame(OH_encoder.fit_transform(X_train[object_cols]))\n",
    "OH_cols_valid = pd.DataFrame(OH_encoder.transform(X_valid[object_cols]))\n",
    "\n",
    "# One-hot encoding removed index; put it back\n",
    "OH_cols_train.index = X_train.index\n",
    "OH_cols_valid.index = X_valid.index\n",
    "\n",
    "# Adding the column names after one hot encoding\n",
    "OH_cols_train.columns = OH_encoder.get_feature_names(object_cols)\n",
    "OH_cols_valid.columns = OH_encoder.get_feature_names(object_cols)\n",
    "\n",
    "# Remove categorical columns (will replace with one-hot encoding)\n",
    "num_X_train = X_train.drop(object_cols, axis=1)\n",
    "num_X_valid = X_valid.drop(object_cols, axis=1)\n",
    "\n",
    "# Add one-hot encoded columns to numerical features\n",
    "OH_X_train = pd.concat([num_X_train, OH_cols_train], axis=1)\n",
    "OH_X_valid = pd.concat([num_X_valid, OH_cols_valid], axis=1)\n"
   ]
  },
  {
   "cell_type": "markdown",
   "metadata": {},
   "source": [
    "## Model 1"
   ]
  },
  {
   "cell_type": "code",
   "execution_count": 185,
   "metadata": {},
   "outputs": [
    {
     "output_type": "execute_result",
     "data": {
      "text/plain": "LinearRegression()"
     },
     "metadata": {},
     "execution_count": 185
    }
   ],
   "source": [
    "from sklearn.linear_model import LinearRegression\n",
    "\n",
    "lm = LinearRegression()\n",
    "lm.fit(OH_X_train,y_train)"
   ]
  },
  {
   "cell_type": "code",
   "execution_count": 186,
   "metadata": {
    "tags": []
   },
   "outputs": [
    {
     "output_type": "stream",
     "name": "stdout",
     "text": "2959694944013.871\n"
    }
   ],
   "source": [
    "print(lm.intercept_)"
   ]
  },
  {
   "cell_type": "code",
   "execution_count": 187,
   "metadata": {},
   "outputs": [
    {
     "output_type": "execute_result",
     "data": {
      "text/plain": "                                                     Coefficient\nSneaker_Name_Nike Air VaporMax Off White 2018       2.064670e+11\nSneaker_Name_Nike Air VaporMax Off White Black      2.064175e+11\nSneaker_Name_Nike Air VaporMax Off White            2.057499e+11\nSneaker_Name_adidas Yeezy Boost 350 V2 Static       8.883017e+10\nSneaker_Name_adidas Yeezy Boost 350 V2 Static R...  8.882686e+10\n...                                                          ...\nSneaker_Name_Nike Air Force 1 Low Virgil Abloh ... -7.413324e+10\nSneaker_Name_Nike Blazer Mid Off White All Hall... -1.290464e+11\nSneaker_Name_Nike Blazer Mid Off White Grim Reaper -1.290464e+11\nSneaker_Name_Nike Blazer Mid Off White Wolf Grey   -1.291753e+11\nSneaker_Name_Nike Blazer Mid Off White             -1.303319e+11\n\n[107 rows x 1 columns]",
      "text/html": "<div>\n<style scoped>\n    .dataframe tbody tr th:only-of-type {\n        vertical-align: middle;\n    }\n\n    .dataframe tbody tr th {\n        vertical-align: top;\n    }\n\n    .dataframe thead th {\n        text-align: right;\n    }\n</style>\n<table border=\"1\" class=\"dataframe\">\n  <thead>\n    <tr style=\"text-align: right;\">\n      <th></th>\n      <th>Coefficient</th>\n    </tr>\n  </thead>\n  <tbody>\n    <tr>\n      <th>Sneaker_Name_Nike Air VaporMax Off White 2018</th>\n      <td>2.064670e+11</td>\n    </tr>\n    <tr>\n      <th>Sneaker_Name_Nike Air VaporMax Off White Black</th>\n      <td>2.064175e+11</td>\n    </tr>\n    <tr>\n      <th>Sneaker_Name_Nike Air VaporMax Off White</th>\n      <td>2.057499e+11</td>\n    </tr>\n    <tr>\n      <th>Sneaker_Name_adidas Yeezy Boost 350 V2 Static</th>\n      <td>8.883017e+10</td>\n    </tr>\n    <tr>\n      <th>Sneaker_Name_adidas Yeezy Boost 350 V2 Static Reflective</th>\n      <td>8.882686e+10</td>\n    </tr>\n    <tr>\n      <th>...</th>\n      <td>...</td>\n    </tr>\n    <tr>\n      <th>Sneaker_Name_Nike Air Force 1 Low Virgil Abloh Off White AF100</th>\n      <td>-7.413324e+10</td>\n    </tr>\n    <tr>\n      <th>Sneaker_Name_Nike Blazer Mid Off White All Hallows Eve</th>\n      <td>-1.290464e+11</td>\n    </tr>\n    <tr>\n      <th>Sneaker_Name_Nike Blazer Mid Off White Grim Reaper</th>\n      <td>-1.290464e+11</td>\n    </tr>\n    <tr>\n      <th>Sneaker_Name_Nike Blazer Mid Off White Wolf Grey</th>\n      <td>-1.291753e+11</td>\n    </tr>\n    <tr>\n      <th>Sneaker_Name_Nike Blazer Mid Off White</th>\n      <td>-1.303319e+11</td>\n    </tr>\n  </tbody>\n</table>\n<p>107 rows × 1 columns</p>\n</div>"
     },
     "metadata": {},
     "execution_count": 187
    }
   ],
   "source": [
    "coeff_df = pd.DataFrame(lm.coef_, OH_X_train.columns,columns=['Coefficient'])\n",
    "ranked_suburbs = coeff_df.sort_values(\"Coefficient\", ascending = False)\n",
    "ranked_suburbs"
   ]
  },
  {
   "cell_type": "code",
   "execution_count": 188,
   "metadata": {},
   "outputs": [],
   "source": [
    "predictions = lm.predict(OH_X_valid)"
   ]
  },
  {
   "cell_type": "code",
   "execution_count": 190,
   "metadata": {
    "tags": []
   },
   "outputs": [
    {
     "output_type": "stream",
     "name": "stdout",
     "text": "MAE: 58.95042487209728\nMSE: 10049.891153092109\nRMSE: 100.24914539831305\n"
    }
   ],
   "source": [
    "from sklearn import metrics\n",
    "print(\"MAE:\", metrics.mean_absolute_error(y_valid, predictions))\n",
    "print('MSE:', metrics.mean_squared_error(y_valid, predictions))\n",
    "print('RMSE:', np.sqrt(metrics.mean_squared_error(y_valid, predictions)))"
   ]
  },
  {
   "cell_type": "markdown",
   "metadata": {},
   "source": [
    "## Model 2"
   ]
  },
  {
   "cell_type": "code",
   "execution_count": 191,
   "metadata": {},
   "outputs": [],
   "source": [
    "from sklearn.feature_selection import RFE\n",
    "from sklearn.linear_model import LinearRegression\n",
    "import statsmodels.api as sm \n",
    "from statsmodels.stats.outliers_influence import variance_inflation_factor"
   ]
  },
  {
   "cell_type": "code",
   "execution_count": 192,
   "metadata": {},
   "outputs": [],
   "source": [
    "lm = LinearRegression()\n",
    "lm.fit(OH_X_train,y_train)\n",
    "rfe = RFE(lm, 10)\n",
    "rfe = rfe.fit(OH_X_train, y_train)"
   ]
  },
  {
   "cell_type": "code",
   "execution_count": 193,
   "metadata": {},
   "outputs": [
    {
     "output_type": "execute_result",
     "data": {
      "text/plain": "[('Order_date', False, 98),\n ('Retail_Price', False, 96),\n ('Release_Date', False, 95),\n ('Shoe_Size', False, 97),\n ('Sneaker_Name_Adidas Yeezy Boost 350 Low Moonrock', True, 1),\n ('Sneaker_Name_Adidas Yeezy Boost 350 Low Oxford Tan', True, 1),\n ('Sneaker_Name_Adidas Yeezy Boost 350 Low Pirate Black 2015', True, 1),\n ('Sneaker_Name_Adidas Yeezy Boost 350 Low Pirate Black 2016', True, 1),\n ('Sneaker_Name_Adidas Yeezy Boost 350 Low Turtledove', True, 1),\n ('Sneaker_Name_Adidas Yeezy Boost 350 Low V2 Beluga', True, 1),\n ('Sneaker_Name_Adidas Yeezy Boost 350 V2 Beluga 2pt0', False, 5),\n ('Sneaker_Name_Adidas Yeezy Boost 350 V2 Blue Tint', False, 7),\n ('Sneaker_Name_Adidas Yeezy Boost 350 V2 Core Black Copper', False, 2),\n ('Sneaker_Name_Adidas Yeezy Boost 350 V2 Core Black Green', False, 3),\n ('Sneaker_Name_Adidas Yeezy Boost 350 V2 Core Black Red', True, 1),\n ('Sneaker_Name_Adidas Yeezy Boost 350 V2 Core Black Red 2017', True, 1),\n ('Sneaker_Name_Adidas Yeezy Boost 350 V2 Core Black White', True, 1),\n ('Sneaker_Name_Adidas Yeezy Boost 350 V2 Cream White', False, 9),\n ('Sneaker_Name_Adidas Yeezy Boost 350 V2 Semi Frozen Yellow', False, 6),\n ('Sneaker_Name_Adidas Yeezy Boost 350 V2 Sesame', False, 12),\n ('Sneaker_Name_Adidas Yeezy Boost 350 V2 Zebra', False, 8),\n ('Sneaker_Name_Air Jordan 1 Retro High Off White Chicago', False, 41),\n ('Sneaker_Name_Air Jordan 1 Retro High Off White University Blue', False, 36),\n ('Sneaker_Name_Air Jordan 1 Retro High Off White White', False, 42),\n ('Sneaker_Name_Nike Air Force 1 Low Off White', False, 32),\n ('Sneaker_Name_Nike Air Force 1 Low Off White Black White', False, 19),\n ('Sneaker_Name_Nike Air Force 1 Low Off White Volt', False, 17),\n ('Sneaker_Name_Nike Air Force 1 Low Virgil Abloh Off White AF100', False, 39),\n ('Sneaker_Name_Nike Air Max 90 Off White', False, 31),\n ('Sneaker_Name_Nike Air Max 90 Off White Black', False, 23),\n ('Sneaker_Name_Nike Air Max 90 Off White Desert Ore', False, 21),\n ('Sneaker_Name_Nike Air Max 97 Off White', False, 28),\n ('Sneaker_Name_Nike Air Max 97 Off White Black', False, 29),\n ('Sneaker_Name_Nike Air Max 97 Off White Elemental Rose Queen', False, 38),\n ('Sneaker_Name_Nike Air Max 97 Off White Menta', False, 34),\n ('Sneaker_Name_Nike Air Presto Off White', False, 40),\n ('Sneaker_Name_Nike Air Presto Off White Black 2018', False, 33),\n ('Sneaker_Name_Nike Air Presto Off White White 2018', False, 27),\n ('Sneaker_Name_Nike Air VaporMax Off White', False, 37),\n ('Sneaker_Name_Nike Air VaporMax Off White 2018', False, 24),\n ('Sneaker_Name_Nike Air VaporMax Off White Black', False, 26),\n ('Sneaker_Name_Nike Blazer Mid Off White', False, 30),\n ('Sneaker_Name_Nike Blazer Mid Off White All Hallows Eve', False, 25),\n ('Sneaker_Name_Nike Blazer Mid Off White Grim Reaper', False, 20),\n ('Sneaker_Name_Nike Blazer Mid Off White Wolf Grey', False, 35),\n ('Sneaker_Name_Nike React Hyperdunk 2017 Flyknit Off White', False, 18),\n ('Sneaker_Name_Nike Zoom Fly Mercurial Off White Black', False, 16),\n ('Sneaker_Name_Nike Zoom Fly Mercurial Off White Total Orange', False, 14),\n ('Sneaker_Name_Nike Zoom Fly Off White', False, 22),\n ('Sneaker_Name_Nike Zoom Fly Off White Black Silver', False, 15),\n ('Sneaker_Name_Nike Zoom Fly Off White Pink', False, 13),\n ('Sneaker_Name_adidas Yeezy Boost 350 V2 Butter', False, 11),\n ('Sneaker_Name_adidas Yeezy Boost 350 V2 Static', False, 10),\n ('Sneaker_Name_adidas Yeezy Boost 350 V2 Static Reflective', False, 4),\n ('Buyer_Region_Alabama', False, 52),\n ('Buyer_Region_Alaska', False, 88),\n ('Buyer_Region_Arizona', False, 87),\n ('Buyer_Region_Arkansas', False, 77),\n ('Buyer_Region_California', False, 86),\n ('Buyer_Region_Colorado', False, 92),\n ('Buyer_Region_Connecticut', False, 54),\n ('Buyer_Region_Delaware', False, 66),\n ('Buyer_Region_District of Columbia', False, 48),\n ('Buyer_Region_Florida', False, 89),\n ('Buyer_Region_Georgia', False, 60),\n ('Buyer_Region_Hawaii', False, 81),\n ('Buyer_Region_Idaho', False, 49),\n ('Buyer_Region_Illinois', False, 75),\n ('Buyer_Region_Indiana', False, 57),\n ('Buyer_Region_Iowa', False, 71),\n ('Buyer_Region_Kansas', False, 78),\n ('Buyer_Region_Kentucky', False, 94),\n ('Buyer_Region_Louisiana', False, 65),\n ('Buyer_Region_Maine', False, 58),\n ('Buyer_Region_Maryland', False, 50),\n ('Buyer_Region_Massachusetts', False, 72),\n ('Buyer_Region_Michigan', False, 76),\n ('Buyer_Region_Minnesota', False, 69),\n ('Buyer_Region_Mississippi', False, 68),\n ('Buyer_Region_Missouri', False, 51),\n ('Buyer_Region_Montana', False, 79),\n ('Buyer_Region_Nebraska', False, 47),\n ('Buyer_Region_Nevada', False, 83),\n ('Buyer_Region_New Hampshire', False, 59),\n ('Buyer_Region_New Jersey', False, 63),\n ('Buyer_Region_New Mexico', False, 91),\n ('Buyer_Region_New York', False, 61),\n ('Buyer_Region_North Carolina', False, 55),\n ('Buyer_Region_North Dakota', False, 85),\n ('Buyer_Region_Ohio', False, 62),\n ('Buyer_Region_Oklahoma', False, 64),\n ('Buyer_Region_Oregon', False, 84),\n ('Buyer_Region_Pennsylvania', False, 56),\n ('Buyer_Region_Rhode Island', False, 53),\n ('Buyer_Region_South Carolina', False, 80),\n ('Buyer_Region_South Dakota', False, 73),\n ('Buyer_Region_Tennessee', False, 67),\n ('Buyer_Region_Texas', False, 74),\n ('Buyer_Region_Utah', False, 70),\n ('Buyer_Region_Vermont', False, 44),\n ('Buyer_Region_Virginia', False, 90),\n ('Buyer_Region_Washington', False, 82),\n ('Buyer_Region_West Virginia', False, 45),\n ('Buyer_Region_Wisconsin', False, 93),\n ('Buyer_Region_Wyoming', False, 46),\n ('Brand_ Yeezy', False, 43),\n ('Brand_Off-White', True, 1)]"
     },
     "metadata": {},
     "execution_count": 193
    }
   ],
   "source": [
    "list(zip(OH_X_train.columns,rfe.support_,rfe.ranking_))"
   ]
  },
  {
   "cell_type": "code",
   "execution_count": 198,
   "metadata": {},
   "outputs": [
    {
     "output_type": "execute_result",
     "data": {
      "text/plain": "       Sneaker_Name_Adidas Yeezy Boost 350 Low Moonrock  \\\n61933                                               0.0   \n89291                                               0.0   \n66195                                               0.0   \n13232                                               0.0   \n79044                                               0.0   \n...                                                 ...   \n89407                                               0.0   \n15246                                               0.0   \n13114                                               0.0   \n95942                                               0.0   \n49072                                               0.0   \n\n       Sneaker_Name_Adidas Yeezy Boost 350 Low Oxford Tan  \\\n61933                                                0.0    \n89291                                                0.0    \n66195                                                0.0    \n13232                                                0.0    \n79044                                                0.0    \n...                                                  ...    \n89407                                                0.0    \n15246                                                0.0    \n13114                                                0.0    \n95942                                                0.0    \n49072                                                0.0    \n\n       Sneaker_Name_Adidas Yeezy Boost 350 Low Pirate Black 2015  \\\n61933                                                0.0           \n89291                                                0.0           \n66195                                                0.0           \n13232                                                0.0           \n79044                                                0.0           \n...                                                  ...           \n89407                                                0.0           \n15246                                                0.0           \n13114                                                0.0           \n95942                                                0.0           \n49072                                                0.0           \n\n       Sneaker_Name_Adidas Yeezy Boost 350 Low Pirate Black 2016  \\\n61933                                                0.0           \n89291                                                0.0           \n66195                                                0.0           \n13232                                                0.0           \n79044                                                0.0           \n...                                                  ...           \n89407                                                0.0           \n15246                                                0.0           \n13114                                                0.0           \n95942                                                0.0           \n49072                                                0.0           \n\n       Sneaker_Name_Adidas Yeezy Boost 350 Low Turtledove  \\\n61933                                                0.0    \n89291                                                0.0    \n66195                                                0.0    \n13232                                                0.0    \n79044                                                0.0    \n...                                                  ...    \n89407                                                0.0    \n15246                                                0.0    \n13114                                                0.0    \n95942                                                0.0    \n49072                                                0.0    \n\n       Sneaker_Name_Adidas Yeezy Boost 350 Low V2 Beluga  \\\n61933                                                0.0   \n89291                                                0.0   \n66195                                                0.0   \n13232                                                0.0   \n79044                                                0.0   \n...                                                  ...   \n89407                                                0.0   \n15246                                                0.0   \n13114                                                0.0   \n95942                                                0.0   \n49072                                                0.0   \n\n       Sneaker_Name_Adidas Yeezy Boost 350 V2 Core Black Red  \\\n61933                                                0.0       \n89291                                                0.0       \n66195                                                0.0       \n13232                                                0.0       \n79044                                                0.0       \n...                                                  ...       \n89407                                                0.0       \n15246                                                0.0       \n13114                                                0.0       \n95942                                                0.0       \n49072                                                0.0       \n\n       Sneaker_Name_Adidas Yeezy Boost 350 V2 Core Black Red 2017  \\\n61933                                                0.0            \n89291                                                0.0            \n66195                                                0.0            \n13232                                                0.0            \n79044                                                0.0            \n...                                                  ...            \n89407                                                0.0            \n15246                                                0.0            \n13114                                                0.0            \n95942                                                0.0            \n49072                                                0.0            \n\n       Sneaker_Name_Adidas Yeezy Boost 350 V2 Core Black White  \\\n61933                                                0.0         \n89291                                                0.0         \n66195                                                0.0         \n13232                                                0.0         \n79044                                                0.0         \n...                                                  ...         \n89407                                                0.0         \n15246                                                0.0         \n13114                                                0.0         \n95942                                                0.0         \n49072                                                0.0         \n\n       Brand_Off-White  \n61933              0.0  \n89291              0.0  \n66195              0.0  \n13232              0.0  \n79044              1.0  \n...                ...  \n89407              0.0  \n15246              0.0  \n13114              0.0  \n95942              0.0  \n49072              0.0  \n\n[79964 rows x 10 columns]",
      "text/html": "<div>\n<style scoped>\n    .dataframe tbody tr th:only-of-type {\n        vertical-align: middle;\n    }\n\n    .dataframe tbody tr th {\n        vertical-align: top;\n    }\n\n    .dataframe thead th {\n        text-align: right;\n    }\n</style>\n<table border=\"1\" class=\"dataframe\">\n  <thead>\n    <tr style=\"text-align: right;\">\n      <th></th>\n      <th>Sneaker_Name_Adidas Yeezy Boost 350 Low Moonrock</th>\n      <th>Sneaker_Name_Adidas Yeezy Boost 350 Low Oxford Tan</th>\n      <th>Sneaker_Name_Adidas Yeezy Boost 350 Low Pirate Black 2015</th>\n      <th>Sneaker_Name_Adidas Yeezy Boost 350 Low Pirate Black 2016</th>\n      <th>Sneaker_Name_Adidas Yeezy Boost 350 Low Turtledove</th>\n      <th>Sneaker_Name_Adidas Yeezy Boost 350 Low V2 Beluga</th>\n      <th>Sneaker_Name_Adidas Yeezy Boost 350 V2 Core Black Red</th>\n      <th>Sneaker_Name_Adidas Yeezy Boost 350 V2 Core Black Red 2017</th>\n      <th>Sneaker_Name_Adidas Yeezy Boost 350 V2 Core Black White</th>\n      <th>Brand_Off-White</th>\n    </tr>\n  </thead>\n  <tbody>\n    <tr>\n      <th>61933</th>\n      <td>0.0</td>\n      <td>0.0</td>\n      <td>0.0</td>\n      <td>0.0</td>\n      <td>0.0</td>\n      <td>0.0</td>\n      <td>0.0</td>\n      <td>0.0</td>\n      <td>0.0</td>\n      <td>0.0</td>\n    </tr>\n    <tr>\n      <th>89291</th>\n      <td>0.0</td>\n      <td>0.0</td>\n      <td>0.0</td>\n      <td>0.0</td>\n      <td>0.0</td>\n      <td>0.0</td>\n      <td>0.0</td>\n      <td>0.0</td>\n      <td>0.0</td>\n      <td>0.0</td>\n    </tr>\n    <tr>\n      <th>66195</th>\n      <td>0.0</td>\n      <td>0.0</td>\n      <td>0.0</td>\n      <td>0.0</td>\n      <td>0.0</td>\n      <td>0.0</td>\n      <td>0.0</td>\n      <td>0.0</td>\n      <td>0.0</td>\n      <td>0.0</td>\n    </tr>\n    <tr>\n      <th>13232</th>\n      <td>0.0</td>\n      <td>0.0</td>\n      <td>0.0</td>\n      <td>0.0</td>\n      <td>0.0</td>\n      <td>0.0</td>\n      <td>0.0</td>\n      <td>0.0</td>\n      <td>0.0</td>\n      <td>0.0</td>\n    </tr>\n    <tr>\n      <th>79044</th>\n      <td>0.0</td>\n      <td>0.0</td>\n      <td>0.0</td>\n      <td>0.0</td>\n      <td>0.0</td>\n      <td>0.0</td>\n      <td>0.0</td>\n      <td>0.0</td>\n      <td>0.0</td>\n      <td>1.0</td>\n    </tr>\n    <tr>\n      <th>...</th>\n      <td>...</td>\n      <td>...</td>\n      <td>...</td>\n      <td>...</td>\n      <td>...</td>\n      <td>...</td>\n      <td>...</td>\n      <td>...</td>\n      <td>...</td>\n      <td>...</td>\n    </tr>\n    <tr>\n      <th>89407</th>\n      <td>0.0</td>\n      <td>0.0</td>\n      <td>0.0</td>\n      <td>0.0</td>\n      <td>0.0</td>\n      <td>0.0</td>\n      <td>0.0</td>\n      <td>0.0</td>\n      <td>0.0</td>\n      <td>0.0</td>\n    </tr>\n    <tr>\n      <th>15246</th>\n      <td>0.0</td>\n      <td>0.0</td>\n      <td>0.0</td>\n      <td>0.0</td>\n      <td>0.0</td>\n      <td>0.0</td>\n      <td>0.0</td>\n      <td>0.0</td>\n      <td>0.0</td>\n      <td>0.0</td>\n    </tr>\n    <tr>\n      <th>13114</th>\n      <td>0.0</td>\n      <td>0.0</td>\n      <td>0.0</td>\n      <td>0.0</td>\n      <td>0.0</td>\n      <td>0.0</td>\n      <td>0.0</td>\n      <td>0.0</td>\n      <td>0.0</td>\n      <td>0.0</td>\n    </tr>\n    <tr>\n      <th>95942</th>\n      <td>0.0</td>\n      <td>0.0</td>\n      <td>0.0</td>\n      <td>0.0</td>\n      <td>0.0</td>\n      <td>0.0</td>\n      <td>0.0</td>\n      <td>0.0</td>\n      <td>0.0</td>\n      <td>0.0</td>\n    </tr>\n    <tr>\n      <th>49072</th>\n      <td>0.0</td>\n      <td>0.0</td>\n      <td>0.0</td>\n      <td>0.0</td>\n      <td>0.0</td>\n      <td>0.0</td>\n      <td>0.0</td>\n      <td>0.0</td>\n      <td>0.0</td>\n      <td>0.0</td>\n    </tr>\n  </tbody>\n</table>\n<p>79964 rows × 10 columns</p>\n</div>"
     },
     "metadata": {},
     "execution_count": 198
    }
   ],
   "source": [
    "X_train_rfe = OH_X_train[OH_X_train.columns[rfe.support_]]\n",
    "X_train_rfe"
   ]
  },
  {
   "cell_type": "code",
   "execution_count": 219,
   "metadata": {},
   "outputs": [],
   "source": [
    "def build_model(X,y):\n",
    "    X = sm.add_constant(X) #Adding the constant\n",
    "    model = sm.OLS(y, X)\n",
    "    results = model.fit() # fitting the model\n",
    "    print(results.summary()) # model summary\n",
    "    dir(results)\n",
    "    return X\n",
    "    \n",
    "def checkVIF(X):\n",
    "    vif = pd.DataFrame()\n",
    "    vif['Features'] = X.columns\n",
    "    vif['VIF'] = [variance_inflation_factor(X.values, i) for i in range(X.shape[1])]\n",
    "    vif['VIF'] = round(vif['VIF'], 2)\n",
    "    vif = vif.sort_values(by = \"VIF\", ascending = False)\n",
    "    return(vif)"
   ]
  },
  {
   "cell_type": "code",
   "execution_count": 220,
   "metadata": {
    "tags": []
   },
   "outputs": [
    {
     "output_type": "stream",
     "name": "stdout",
     "text": "OLS Regression Results                            \n==============================================================================\nDep. Variable:             Sale_Price   R-squared:                       0.833\nModel:                            OLS   Adj. R-squared:                  0.833\nMethod:                 Least Squares   F-statistic:                     3951.\nDate:                Sat, 05 Sep 2020   Prob (F-statistic):               0.00\nTime:                        17:57:19   Log-Likelihood:            -4.8540e+05\nNo. Observations:               79964   AIC:                         9.710e+05\nDf Residuals:                   79862   BIC:                         9.719e+05\nDf Model:                         101                                         \nCovariance Type:            nonrobust                                         \n==================================================================================================================================\n                                                                     coef    std err          t      P>|t|      [0.025      0.975]\n----------------------------------------------------------------------------------------------------------------------------------\nconst                                                              5.1331      0.027    187.644      0.000       5.079       5.187\nOrder_date                                                        -0.2552      0.004    -67.139      0.000      -0.263      -0.248\nRetail_Price                                                      -1.0413      0.032    -32.327      0.000      -1.104      -0.978\nRelease_Date                                                       0.2565      0.004     67.431      0.000       0.249       0.264\nShoe_Size                                                          1.0932      0.164      6.659      0.000       0.771       1.415\nSneaker_Name_Adidas Yeezy Boost 350 Low Moonrock                 439.5399     11.843     37.113      0.000     416.327     462.753\nSneaker_Name_Adidas Yeezy Boost 350 Low Oxford Tan               457.1851     13.315     34.335      0.000     431.087     483.283\nSneaker_Name_Adidas Yeezy Boost 350 Low Pirate Black 2015        374.8121     11.737     31.935      0.000     351.808     397.816\nSneaker_Name_Adidas Yeezy Boost 350 Low Pirate Black 2016        412.5610     10.553     39.094      0.000     391.877     433.245\nSneaker_Name_Adidas Yeezy Boost 350 Low Turtledove               994.5031     14.302     69.534      0.000     966.470    1022.536\nSneaker_Name_Adidas Yeezy Boost 350 Low V2 Beluga                178.9157      5.239     34.151      0.000     168.647     189.184\nSneaker_Name_Adidas Yeezy Boost 350 V2 Beluga 2pt0              -344.7718      2.395   -143.950      0.000    -349.466    -340.078\nSneaker_Name_Adidas Yeezy Boost 350 V2 Blue Tint                -363.2561      2.399   -151.440      0.000    -367.958    -358.555\nSneaker_Name_Adidas Yeezy Boost 350 V2 Core Black Copper          30.9069      7.605      4.064      0.000      16.001      45.813\nSneaker_Name_Adidas Yeezy Boost 350 V2 Core Black Green           -6.6469      8.276     -0.803      0.422     -22.868       9.575\nSneaker_Name_Adidas Yeezy Boost 350 V2 Core Black Red            300.3757      6.619     45.379      0.000     287.402     313.349\nSneaker_Name_Adidas Yeezy Boost 350 V2 Core Black Red 2017       154.6645      3.876     39.907      0.000     147.068     162.261\nSneaker_Name_Adidas Yeezy Boost 350 V2 Core Black White           82.2937      4.761     17.283      0.000      72.961      91.626\nSneaker_Name_Adidas Yeezy Boost 350 V2 Cream White              -349.9073      1.960   -178.522      0.000    -353.749    -346.066\nSneaker_Name_Adidas Yeezy Boost 350 V2 Semi Frozen Yellow       -299.0513      2.333   -128.169      0.000    -303.624    -294.478\nSneaker_Name_Adidas Yeezy Boost 350 V2 Sesame                   -498.9889      2.766   -180.382      0.000    -504.411    -493.567\nSneaker_Name_Adidas Yeezy Boost 350 V2 Zebra                    -258.0680      1.961   -131.614      0.000    -261.911    -254.225\nSneaker_Name_Air Jordan 1 Retro High Off White Chicago          1090.8121      4.224    258.262      0.000    1082.534    1099.090\nSneaker_Name_Air Jordan 1 Retro High Off White University Blue   141.5739      1.950     72.584      0.000     137.751     145.397\nSneaker_Name_Air Jordan 1 Retro High Off White White            1130.1534      6.499    173.893      0.000    1117.415    1142.892\nSneaker_Name_Nike Air Force 1 Low Off White                        7.8528      5.281      1.487      0.137      -2.497      18.203\nSneaker_Name_Nike Air Force 1 Low Off White Black White         -225.5021      3.867    -58.309      0.000    -233.082    -217.922\nSneaker_Name_Nike Air Force 1 Low Off White Volt                -345.8345      3.755    -92.099      0.000    -353.194    -338.475\nSneaker_Name_Nike Air Force 1 Low Virgil Abloh Off White AF100   231.3118     19.793     11.687      0.000     192.518     270.106\nSneaker_Name_Nike Air Max 90 Off White                            -0.0343      4.713     -0.007      0.994      -9.272       9.203\nSneaker_Name_Nike Air Max 90 Off White Black                    -200.0857      4.434    -45.121      0.000    -208.777    -191.394\nSneaker_Name_Nike Air Max 90 Off White Desert Ore               -219.9079      4.650    -47.291      0.000    -229.022    -210.794\nSneaker_Name_Nike Air Max 97 Off White                           -16.3752      4.998     -3.276      0.001     -26.171      -6.579\nSneaker_Name_Nike Air Max 97 Off White Black                     -42.3339      6.703     -6.316      0.000     -55.471     -29.197\nSneaker_Name_Nike Air Max 97 Off White Elemental Rose Queen      183.1438      7.737     23.670      0.000     167.979     198.309\nSneaker_Name_Nike Air Max 97 Off White Menta                      46.2191      6.235      7.413      0.000      33.999      58.440\nSneaker_Name_Nike Air Presto Off White                           527.6382      4.794    110.070      0.000     518.243     537.034\nSneaker_Name_Nike Air Presto Off White Black 2018                 -8.0472      2.958     -2.721      0.007     -13.844      -2.250\nSneaker_Name_Nike Air Presto Off White White 2018               -103.3376      2.935    -35.213      0.000    -109.090     -97.586\nSneaker_Name_Nike Air VaporMax Off White                         241.0868      4.597     52.448      0.000     232.077     250.096\nSneaker_Name_Nike Air VaporMax Off White 2018                    -48.0175      3.164    -15.177      0.000     -54.219     -41.816\nSneaker_Name_Nike Air VaporMax Off White Black                    -8.8892      3.337     -2.664      0.008     -15.429      -2.349\nSneaker_Name_Nike Blazer Mid Off White                           -52.5152      5.098    -10.301      0.000     -62.508     -42.523\nSneaker_Name_Nike Blazer Mid Off White All Hallows Eve          -167.4611      3.567    -46.942      0.000    -174.453    -160.469\nSneaker_Name_Nike Blazer Mid Off White Grim Reaper              -244.2683      3.560    -68.622      0.000    -251.245    -237.291\nSneaker_Name_Nike Blazer Mid Off White Wolf Grey                  21.4478      6.585      3.257      0.001       8.541      34.354\nSneaker_Name_Nike React Hyperdunk 2017 Flyknit Off White        -184.5711      5.231    -35.285      0.000    -194.824    -174.319\nSneaker_Name_Nike Zoom Fly Mercurial Off White Black            -342.5370      4.530    -75.612      0.000    -351.416    -333.658\nSneaker_Name_Nike Zoom Fly Mercurial Off White Total Orange     -406.1497      4.522    -89.823      0.000    -415.012    -397.287\nSneaker_Name_Nike Zoom Fly Off White                            -175.2464      5.501    -31.857      0.000    -186.028    -164.464\nSneaker_Name_Nike Zoom Fly Off White Black Silver               -405.1616      3.428   -118.206      0.000    -411.880    -398.444\nSneaker_Name_Nike Zoom Fly Off White Pink                       -463.3200      3.327   -139.258      0.000    -469.841    -456.799\nSneaker_Name_adidas Yeezy Boost 350 V2 Butter                   -486.6519      2.481   -196.138      0.000    -491.515    -481.789\nSneaker_Name_adidas Yeezy Boost 350 V2 Static                   -479.1958      2.828   -169.472      0.000    -484.738    -473.654\nSneaker_Name_adidas Yeezy Boost 350 V2 Static Reflective        -295.7306      3.075    -96.175      0.000    -301.757    -289.704\nBuyer_Region_Alabama                                              -5.9720      5.499     -1.086      0.278     -16.751       4.807\nBuyer_Region_Alaska                                                7.4416     14.426      0.516      0.606     -20.833      35.716\nBuyer_Region_Arizona                                               6.8132      3.251      2.096      0.036       0.442      13.184\nBuyer_Region_Arkansas                                              4.9545      8.936      0.554      0.579     -12.561      22.469\nBuyer_Region_California                                            4.5142      1.334      3.383      0.001       1.899       7.130\nBuyer_Region_Colorado                                              5.2450      3.896      1.346      0.178      -2.392      12.882\nBuyer_Region_Connecticut                                          -6.6480      3.574     -1.860      0.063     -13.654       0.358\nBuyer_Region_Delaware                                              1.2659      3.469      0.365      0.715      -5.534       8.066\nBuyer_Region_District of Columbia                                 -7.6039      7.200     -1.056      0.291     -21.715       6.508\nBuyer_Region_Florida                                               7.0068      1.776      3.945      0.000       3.525      10.488\nBuyer_Region_Georgia                                              -1.4193      2.859     -0.496      0.620      -7.023       4.184\nBuyer_Region_Hawaii                                                2.8605      5.902      0.485      0.628      -8.707      14.428\nBuyer_Region_Idaho                                                -5.1046     11.128     -0.459      0.646     -26.915      16.706\nBuyer_Region_Illinois                                              1.5519      2.137      0.726      0.468      -2.638       5.741\nBuyer_Region_Indiana                                              -1.9188      3.738     -0.513      0.608      -9.245       5.408\nBuyer_Region_Iowa                                                 -3.2870      5.473     -0.601      0.548     -14.014       7.440\nBuyer_Region_Kansas                                                5.0456      6.239      0.809      0.419      -7.182      17.273\nBuyer_Region_Kentucky                                             15.0426      5.363      2.805      0.005       4.531      25.555\nBuyer_Region_Louisiana                                            -0.7739      5.114     -0.151      0.880     -10.798       9.250\nBuyer_Region_Maine                                                -2.5598      9.987     -0.256      0.798     -22.134      17.014\nBuyer_Region_Maryland                                             -6.8010      2.859     -2.379      0.017     -12.404      -1.198\nBuyer_Region_Massachusetts                                         1.7817      2.374      0.751      0.453      -2.871       6.435\nBuyer_Region_Michigan                                              1.4524      2.422      0.600      0.549      -3.295       6.200\nBuyer_Region_Minnesota                                            -0.3221      4.522     -0.071      0.943      -9.186       8.541\nBuyer_Region_Mississippi                                           0.5846      9.321      0.063      0.950     -17.685      18.854\nBuyer_Region_Missouri                                             -6.4488      4.660     -1.384      0.166     -15.582       2.684\nBuyer_Region_Montana                                               4.4666     17.154      0.260      0.795     -29.156      38.089\nBuyer_Region_Nebraska                                            -12.8323      7.431     -1.727      0.084     -27.396       1.732\nBuyer_Region_Nevada                                                4.2976      4.228      1.017      0.309      -3.989      12.584\nBuyer_Region_New Hampshire                                         0.9217      7.565      0.122      0.903     -13.905      15.749\nBuyer_Region_New Jersey                                            0.3489      1.971      0.177      0.860      -3.515       4.213\nBuyer_Region_New Mexico                                            8.2850      7.666      1.081      0.280      -6.740      23.310\nBuyer_Region_New York                                              0.2168      1.377      0.157      0.875      -2.481       2.915\nBuyer_Region_North Carolina                                       -4.1695      3.280     -1.271      0.204     -10.599       2.260\nBuyer_Region_North Dakota                                          7.2245     14.566      0.496      0.620     -21.324      35.773\nBuyer_Region_Ohio                                                 -2.1334      2.835     -0.753      0.452      -7.690       3.423\nBuyer_Region_Oklahoma                                             -4.2017      5.686     -0.739      0.460     -15.346       6.943\nBuyer_Region_Oregon                                                6.9162      1.719      4.023      0.000       3.547      10.286\nBuyer_Region_Pennsylvania                                         -2.9351      2.305     -1.274      0.203      -7.452       1.582\nBuyer_Region_Rhode Island                                         -3.8925      6.351     -0.613      0.540     -16.340       8.555\nBuyer_Region_South Carolina                                        5.3032      4.897      1.083      0.279      -4.296      14.902\nBuyer_Region_South Dakota                                         -0.7478     15.887     -0.047      0.962     -31.886      30.391\nBuyer_Region_Tennessee                                            -1.1228      4.374     -0.257      0.797      -9.696       7.450\nBuyer_Region_Texas                                                 0.8608      1.825      0.472      0.637      -2.717       4.439\nBuyer_Region_Utah                                                  1.6728      5.471      0.306      0.760      -9.051      12.397\nBuyer_Region_Vermont                                             -19.6605     12.884     -1.526      0.127     -44.913       5.592\nBuyer_Region_Virginia                                              6.2036      2.752      2.254      0.024       0.809      11.598\nBuyer_Region_Washington                                            2.9133      2.861      1.018      0.308      -2.694       8.520\nBuyer_Region_West Virginia                                       -11.5949      9.140     -1.269      0.205     -29.510       6.320\nBuyer_Region_Wisconsin                                            10.1076      4.050      2.496      0.013       2.169      18.046\nBuyer_Region_Wyoming                                              -8.0161     19.106     -0.420      0.675     -45.463      29.431\nBrand_ Yeezy                                                      43.4889      1.417     30.700      0.000      40.712      46.265\nBrand_Off-White                                                  -38.3558      1.394    -27.511      0.000     -41.088     -35.623\n==============================================================================\nOmnibus:                    57016.769   Durbin-Watson:                   2.004\nProb(Omnibus):                  0.000   Jarque-Bera (JB):          4413229.186\nSkew:                           2.746   Prob(JB):                         0.00\nKurtosis:                      38.978   Cond. No.                     5.97e+22\n==============================================================================\n\nNotes:\n[1] Standard Errors assume that the covariance matrix of the errors is correctly specified.\n[2] The smallest eigenvalue is 2.43e-29. This might indicate that there are\nstrong multicollinearity problems or that the design matrix is singular.\n"
    }
   ],
   "source": [
    "X_train_new = build_model(OH_X_train,y_train)"
   ]
  },
  {
   "cell_type": "code",
   "execution_count": 218,
   "metadata": {},
   "outputs": [
    {
     "output_type": "error",
     "ename": "NameError",
     "evalue": "name 'results' is not defined",
     "traceback": [
      "\u001b[0;31m---------------------------------------------------------------------------\u001b[0m",
      "\u001b[0;31mNameError\u001b[0m                                 Traceback (most recent call last)",
      "\u001b[0;32m<ipython-input-218-100f62972f2f>\u001b[0m in \u001b[0;36m<module>\u001b[0;34m\u001b[0m\n\u001b[0;32m----> 1\u001b[0;31m \u001b[0mresults\u001b[0m\u001b[0;34m\u001b[0m\u001b[0;34m\u001b[0m\u001b[0m\n\u001b[0m",
      "\u001b[0;31mNameError\u001b[0m: name 'results' is not defined"
     ]
    }
   ],
   "source": [
    "results"
   ]
  },
  {
   "cell_type": "code",
   "execution_count": null,
   "metadata": {},
   "outputs": [],
   "source": []
  }
 ]
}