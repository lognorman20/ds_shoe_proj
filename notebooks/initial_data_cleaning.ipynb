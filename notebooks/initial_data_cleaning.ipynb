{
 "metadata": {
  "language_info": {
   "codemirror_mode": {
    "name": "ipython",
    "version": 3
   },
   "file_extension": ".py",
   "mimetype": "text/x-python",
   "name": "python",
   "nbconvert_exporter": "python",
   "pygments_lexer": "ipython3",
   "version": 3
  },
  "orig_nbformat": 2,
  "kernelspec": {
   "name": "python_defaultSpec_1596478914835",
   "display_name": "Python 3.7.4 64-bit"
  }
 },
 "nbformat": 4,
 "nbformat_minor": 2,
 "cells": [
  {
   "cell_type": "code",
   "execution_count": 2,
   "metadata": {},
   "outputs": [],
   "source": [
    "import pandas as pd\n",
    "import numpy as np\n",
    "import seaborn as sns\n",
    "import matplotlib.pyplot as plt"
   ]
  },
  {
   "cell_type": "code",
   "execution_count": 3,
   "metadata": {},
   "outputs": [
    {
     "output_type": "execute_result",
     "data": {
      "text/plain": "  Order Date   Brand                                   Sneaker Name  \\\n0   9/1/2017   Yeezy           Adidas-Yeezy-Boost-350-Low-V2-Beluga   \n1   9/1/2017   Yeezy    Adidas-Yeezy-Boost-350-V2-Core-Black-Copper   \n2   9/1/2017   Yeezy     Adidas-Yeezy-Boost-350-V2-Core-Black-Green   \n3   9/1/2017   Yeezy       Adidas-Yeezy-Boost-350-V2-Core-Black-Red   \n4   9/1/2017   Yeezy  Adidas-Yeezy-Boost-350-V2-Core-Black-Red-2017   \n\n  Sale Price Retail Price Release Date  Shoe Size  Buyer Region  \n0     $1,097         $220    9/24/2016       11.0    California  \n1       $685         $220   11/23/2016       11.0    California  \n2       $690         $220   11/23/2016       11.0    California  \n3     $1,075         $220   11/23/2016       11.5      Kentucky  \n4       $828         $220    2/11/2017       11.0  Rhode Island  ",
      "text/html": "<div>\n<style scoped>\n    .dataframe tbody tr th:only-of-type {\n        vertical-align: middle;\n    }\n\n    .dataframe tbody tr th {\n        vertical-align: top;\n    }\n\n    .dataframe thead th {\n        text-align: right;\n    }\n</style>\n<table border=\"1\" class=\"dataframe\">\n  <thead>\n    <tr style=\"text-align: right;\">\n      <th></th>\n      <th>Order Date</th>\n      <th>Brand</th>\n      <th>Sneaker Name</th>\n      <th>Sale Price</th>\n      <th>Retail Price</th>\n      <th>Release Date</th>\n      <th>Shoe Size</th>\n      <th>Buyer Region</th>\n    </tr>\n  </thead>\n  <tbody>\n    <tr>\n      <th>0</th>\n      <td>9/1/2017</td>\n      <td>Yeezy</td>\n      <td>Adidas-Yeezy-Boost-350-Low-V2-Beluga</td>\n      <td>$1,097</td>\n      <td>$220</td>\n      <td>9/24/2016</td>\n      <td>11.0</td>\n      <td>California</td>\n    </tr>\n    <tr>\n      <th>1</th>\n      <td>9/1/2017</td>\n      <td>Yeezy</td>\n      <td>Adidas-Yeezy-Boost-350-V2-Core-Black-Copper</td>\n      <td>$685</td>\n      <td>$220</td>\n      <td>11/23/2016</td>\n      <td>11.0</td>\n      <td>California</td>\n    </tr>\n    <tr>\n      <th>2</th>\n      <td>9/1/2017</td>\n      <td>Yeezy</td>\n      <td>Adidas-Yeezy-Boost-350-V2-Core-Black-Green</td>\n      <td>$690</td>\n      <td>$220</td>\n      <td>11/23/2016</td>\n      <td>11.0</td>\n      <td>California</td>\n    </tr>\n    <tr>\n      <th>3</th>\n      <td>9/1/2017</td>\n      <td>Yeezy</td>\n      <td>Adidas-Yeezy-Boost-350-V2-Core-Black-Red</td>\n      <td>$1,075</td>\n      <td>$220</td>\n      <td>11/23/2016</td>\n      <td>11.5</td>\n      <td>Kentucky</td>\n    </tr>\n    <tr>\n      <th>4</th>\n      <td>9/1/2017</td>\n      <td>Yeezy</td>\n      <td>Adidas-Yeezy-Boost-350-V2-Core-Black-Red-2017</td>\n      <td>$828</td>\n      <td>$220</td>\n      <td>2/11/2017</td>\n      <td>11.0</td>\n      <td>Rhode Island</td>\n    </tr>\n  </tbody>\n</table>\n</div>"
     },
     "metadata": {},
     "execution_count": 3
    }
   ],
   "source": [
    "original_data = pd.read_csv('/Users/logno/Documents/BAF1/ds_shoe_proj/StockX-Data-Contest-2019-3.csv', header = 2)\n",
    "df = original_data.copy()\n",
    "df.head()"
   ]
  },
  {
   "cell_type": "code",
   "execution_count": 4,
   "metadata": {},
   "outputs": [
    {
     "output_type": "execute_result",
     "data": {
      "text/plain": "  Order Date   Brand                                   Sneaker Name  \\\n0 2017-09-01   Yeezy           Adidas-Yeezy-Boost-350-Low-V2-Beluga   \n1 2017-09-01   Yeezy    Adidas-Yeezy-Boost-350-V2-Core-Black-Copper   \n2 2017-09-01   Yeezy     Adidas-Yeezy-Boost-350-V2-Core-Black-Green   \n3 2017-09-01   Yeezy       Adidas-Yeezy-Boost-350-V2-Core-Black-Red   \n4 2017-09-01   Yeezy  Adidas-Yeezy-Boost-350-V2-Core-Black-Red-2017   \n\n  Sale Price Retail Price Release Date  Shoe Size  Buyer Region  \n0     $1,097         $220    9/24/2016       11.0    California  \n1       $685         $220   11/23/2016       11.0    California  \n2       $690         $220   11/23/2016       11.0    California  \n3     $1,075         $220   11/23/2016       11.5      Kentucky  \n4       $828         $220    2/11/2017       11.0  Rhode Island  ",
      "text/html": "<div>\n<style scoped>\n    .dataframe tbody tr th:only-of-type {\n        vertical-align: middle;\n    }\n\n    .dataframe tbody tr th {\n        vertical-align: top;\n    }\n\n    .dataframe thead th {\n        text-align: right;\n    }\n</style>\n<table border=\"1\" class=\"dataframe\">\n  <thead>\n    <tr style=\"text-align: right;\">\n      <th></th>\n      <th>Order Date</th>\n      <th>Brand</th>\n      <th>Sneaker Name</th>\n      <th>Sale Price</th>\n      <th>Retail Price</th>\n      <th>Release Date</th>\n      <th>Shoe Size</th>\n      <th>Buyer Region</th>\n    </tr>\n  </thead>\n  <tbody>\n    <tr>\n      <th>0</th>\n      <td>2017-09-01</td>\n      <td>Yeezy</td>\n      <td>Adidas-Yeezy-Boost-350-Low-V2-Beluga</td>\n      <td>$1,097</td>\n      <td>$220</td>\n      <td>9/24/2016</td>\n      <td>11.0</td>\n      <td>California</td>\n    </tr>\n    <tr>\n      <th>1</th>\n      <td>2017-09-01</td>\n      <td>Yeezy</td>\n      <td>Adidas-Yeezy-Boost-350-V2-Core-Black-Copper</td>\n      <td>$685</td>\n      <td>$220</td>\n      <td>11/23/2016</td>\n      <td>11.0</td>\n      <td>California</td>\n    </tr>\n    <tr>\n      <th>2</th>\n      <td>2017-09-01</td>\n      <td>Yeezy</td>\n      <td>Adidas-Yeezy-Boost-350-V2-Core-Black-Green</td>\n      <td>$690</td>\n      <td>$220</td>\n      <td>11/23/2016</td>\n      <td>11.0</td>\n      <td>California</td>\n    </tr>\n    <tr>\n      <th>3</th>\n      <td>2017-09-01</td>\n      <td>Yeezy</td>\n      <td>Adidas-Yeezy-Boost-350-V2-Core-Black-Red</td>\n      <td>$1,075</td>\n      <td>$220</td>\n      <td>11/23/2016</td>\n      <td>11.5</td>\n      <td>Kentucky</td>\n    </tr>\n    <tr>\n      <th>4</th>\n      <td>2017-09-01</td>\n      <td>Yeezy</td>\n      <td>Adidas-Yeezy-Boost-350-V2-Core-Black-Red-2017</td>\n      <td>$828</td>\n      <td>$220</td>\n      <td>2/11/2017</td>\n      <td>11.0</td>\n      <td>Rhode Island</td>\n    </tr>\n  </tbody>\n</table>\n</div>"
     },
     "metadata": {},
     "execution_count": 4
    }
   ],
   "source": [
    "# Change 'order date' dtype\n",
    "df['Order Date'] = pd.to_datetime(df['Order Date'], format='%m/%d/%Y')\n",
    "df.head()"
   ]
  },
  {
   "cell_type": "code",
   "execution_count": 5,
   "metadata": {},
   "outputs": [
    {
     "output_type": "execute_result",
     "data": {
      "text/plain": "  Order Date   Brand                                   Sneaker Name  \\\n0 2017-09-01   Yeezy           Adidas-Yeezy-Boost-350-Low-V2-Beluga   \n1 2017-09-01   Yeezy    Adidas-Yeezy-Boost-350-V2-Core-Black-Copper   \n2 2017-09-01   Yeezy     Adidas-Yeezy-Boost-350-V2-Core-Black-Green   \n3 2017-09-01   Yeezy       Adidas-Yeezy-Boost-350-V2-Core-Black-Red   \n4 2017-09-01   Yeezy  Adidas-Yeezy-Boost-350-V2-Core-Black-Red-2017   \n\n  Sale Price Retail Price Release Date  Shoe Size  Buyer Region  \n0     $1,097         $220   2016-09-24       11.0    California  \n1       $685         $220   2016-11-23       11.0    California  \n2       $690         $220   2016-11-23       11.0    California  \n3     $1,075         $220   2016-11-23       11.5      Kentucky  \n4       $828         $220   2017-02-11       11.0  Rhode Island  ",
      "text/html": "<div>\n<style scoped>\n    .dataframe tbody tr th:only-of-type {\n        vertical-align: middle;\n    }\n\n    .dataframe tbody tr th {\n        vertical-align: top;\n    }\n\n    .dataframe thead th {\n        text-align: right;\n    }\n</style>\n<table border=\"1\" class=\"dataframe\">\n  <thead>\n    <tr style=\"text-align: right;\">\n      <th></th>\n      <th>Order Date</th>\n      <th>Brand</th>\n      <th>Sneaker Name</th>\n      <th>Sale Price</th>\n      <th>Retail Price</th>\n      <th>Release Date</th>\n      <th>Shoe Size</th>\n      <th>Buyer Region</th>\n    </tr>\n  </thead>\n  <tbody>\n    <tr>\n      <th>0</th>\n      <td>2017-09-01</td>\n      <td>Yeezy</td>\n      <td>Adidas-Yeezy-Boost-350-Low-V2-Beluga</td>\n      <td>$1,097</td>\n      <td>$220</td>\n      <td>2016-09-24</td>\n      <td>11.0</td>\n      <td>California</td>\n    </tr>\n    <tr>\n      <th>1</th>\n      <td>2017-09-01</td>\n      <td>Yeezy</td>\n      <td>Adidas-Yeezy-Boost-350-V2-Core-Black-Copper</td>\n      <td>$685</td>\n      <td>$220</td>\n      <td>2016-11-23</td>\n      <td>11.0</td>\n      <td>California</td>\n    </tr>\n    <tr>\n      <th>2</th>\n      <td>2017-09-01</td>\n      <td>Yeezy</td>\n      <td>Adidas-Yeezy-Boost-350-V2-Core-Black-Green</td>\n      <td>$690</td>\n      <td>$220</td>\n      <td>2016-11-23</td>\n      <td>11.0</td>\n      <td>California</td>\n    </tr>\n    <tr>\n      <th>3</th>\n      <td>2017-09-01</td>\n      <td>Yeezy</td>\n      <td>Adidas-Yeezy-Boost-350-V2-Core-Black-Red</td>\n      <td>$1,075</td>\n      <td>$220</td>\n      <td>2016-11-23</td>\n      <td>11.5</td>\n      <td>Kentucky</td>\n    </tr>\n    <tr>\n      <th>4</th>\n      <td>2017-09-01</td>\n      <td>Yeezy</td>\n      <td>Adidas-Yeezy-Boost-350-V2-Core-Black-Red-2017</td>\n      <td>$828</td>\n      <td>$220</td>\n      <td>2017-02-11</td>\n      <td>11.0</td>\n      <td>Rhode Island</td>\n    </tr>\n  </tbody>\n</table>\n</div>"
     },
     "metadata": {},
     "execution_count": 5
    }
   ],
   "source": [
    "# Change 'release date' dtype\n",
    "df['Release Date'] = pd.to_datetime(df['Release Date'], format='%m/%d/%Y')\n",
    "df.head()"
   ]
  },
  {
   "cell_type": "code",
   "execution_count": 6,
   "metadata": {},
   "outputs": [
    {
     "output_type": "execute_result",
     "data": {
      "text/plain": "  Order Date   Brand                                   Sneaker Name  \\\n0 2017-09-01   Yeezy           Adidas Yeezy Boost 350 Low V2 Beluga   \n1 2017-09-01   Yeezy    Adidas Yeezy Boost 350 V2 Core Black Copper   \n2 2017-09-01   Yeezy     Adidas Yeezy Boost 350 V2 Core Black Green   \n3 2017-09-01   Yeezy       Adidas Yeezy Boost 350 V2 Core Black Red   \n4 2017-09-01   Yeezy  Adidas Yeezy Boost 350 V2 Core Black Red 2017   \n\n  Sale Price Retail Price Release Date  Shoe Size  Buyer Region  \n0     $1,097         $220   2016-09-24       11.0    California  \n1       $685         $220   2016-11-23       11.0    California  \n2       $690         $220   2016-11-23       11.0    California  \n3     $1,075         $220   2016-11-23       11.5      Kentucky  \n4       $828         $220   2017-02-11       11.0  Rhode Island  ",
      "text/html": "<div>\n<style scoped>\n    .dataframe tbody tr th:only-of-type {\n        vertical-align: middle;\n    }\n\n    .dataframe tbody tr th {\n        vertical-align: top;\n    }\n\n    .dataframe thead th {\n        text-align: right;\n    }\n</style>\n<table border=\"1\" class=\"dataframe\">\n  <thead>\n    <tr style=\"text-align: right;\">\n      <th></th>\n      <th>Order Date</th>\n      <th>Brand</th>\n      <th>Sneaker Name</th>\n      <th>Sale Price</th>\n      <th>Retail Price</th>\n      <th>Release Date</th>\n      <th>Shoe Size</th>\n      <th>Buyer Region</th>\n    </tr>\n  </thead>\n  <tbody>\n    <tr>\n      <th>0</th>\n      <td>2017-09-01</td>\n      <td>Yeezy</td>\n      <td>Adidas Yeezy Boost 350 Low V2 Beluga</td>\n      <td>$1,097</td>\n      <td>$220</td>\n      <td>2016-09-24</td>\n      <td>11.0</td>\n      <td>California</td>\n    </tr>\n    <tr>\n      <th>1</th>\n      <td>2017-09-01</td>\n      <td>Yeezy</td>\n      <td>Adidas Yeezy Boost 350 V2 Core Black Copper</td>\n      <td>$685</td>\n      <td>$220</td>\n      <td>2016-11-23</td>\n      <td>11.0</td>\n      <td>California</td>\n    </tr>\n    <tr>\n      <th>2</th>\n      <td>2017-09-01</td>\n      <td>Yeezy</td>\n      <td>Adidas Yeezy Boost 350 V2 Core Black Green</td>\n      <td>$690</td>\n      <td>$220</td>\n      <td>2016-11-23</td>\n      <td>11.0</td>\n      <td>California</td>\n    </tr>\n    <tr>\n      <th>3</th>\n      <td>2017-09-01</td>\n      <td>Yeezy</td>\n      <td>Adidas Yeezy Boost 350 V2 Core Black Red</td>\n      <td>$1,075</td>\n      <td>$220</td>\n      <td>2016-11-23</td>\n      <td>11.5</td>\n      <td>Kentucky</td>\n    </tr>\n    <tr>\n      <th>4</th>\n      <td>2017-09-01</td>\n      <td>Yeezy</td>\n      <td>Adidas Yeezy Boost 350 V2 Core Black Red 2017</td>\n      <td>$828</td>\n      <td>$220</td>\n      <td>2017-02-11</td>\n      <td>11.0</td>\n      <td>Rhode Island</td>\n    </tr>\n  </tbody>\n</table>\n</div>"
     },
     "metadata": {},
     "execution_count": 6
    }
   ],
   "source": [
    "# Remove - from sneaker name\n",
    "df['Sneaker Name'] = df['Sneaker Name'].apply(lambda x: x.replace('-', ' '))\n",
    "df.head()"
   ]
  },
  {
   "cell_type": "code",
   "execution_count": 7,
   "metadata": {},
   "outputs": [
    {
     "output_type": "execute_result",
     "data": {
      "text/plain": "  Order Date   Brand                                   Sneaker Name  \\\n0 2017-09-01   Yeezy           Adidas Yeezy Boost 350 Low V2 Beluga   \n1 2017-09-01   Yeezy    Adidas Yeezy Boost 350 V2 Core Black Copper   \n2 2017-09-01   Yeezy     Adidas Yeezy Boost 350 V2 Core Black Green   \n3 2017-09-01   Yeezy       Adidas Yeezy Boost 350 V2 Core Black Red   \n4 2017-09-01   Yeezy  Adidas Yeezy Boost 350 V2 Core Black Red 2017   \n\n  Sale Price Retail Price Release Date  Shoe Size  Buyer Region  \n0       1097         $220   2016-09-24       11.0    California  \n1        685         $220   2016-11-23       11.0    California  \n2        690         $220   2016-11-23       11.0    California  \n3       1075         $220   2016-11-23       11.5      Kentucky  \n4        828         $220   2017-02-11       11.0  Rhode Island  ",
      "text/html": "<div>\n<style scoped>\n    .dataframe tbody tr th:only-of-type {\n        vertical-align: middle;\n    }\n\n    .dataframe tbody tr th {\n        vertical-align: top;\n    }\n\n    .dataframe thead th {\n        text-align: right;\n    }\n</style>\n<table border=\"1\" class=\"dataframe\">\n  <thead>\n    <tr style=\"text-align: right;\">\n      <th></th>\n      <th>Order Date</th>\n      <th>Brand</th>\n      <th>Sneaker Name</th>\n      <th>Sale Price</th>\n      <th>Retail Price</th>\n      <th>Release Date</th>\n      <th>Shoe Size</th>\n      <th>Buyer Region</th>\n    </tr>\n  </thead>\n  <tbody>\n    <tr>\n      <th>0</th>\n      <td>2017-09-01</td>\n      <td>Yeezy</td>\n      <td>Adidas Yeezy Boost 350 Low V2 Beluga</td>\n      <td>1097</td>\n      <td>$220</td>\n      <td>2016-09-24</td>\n      <td>11.0</td>\n      <td>California</td>\n    </tr>\n    <tr>\n      <th>1</th>\n      <td>2017-09-01</td>\n      <td>Yeezy</td>\n      <td>Adidas Yeezy Boost 350 V2 Core Black Copper</td>\n      <td>685</td>\n      <td>$220</td>\n      <td>2016-11-23</td>\n      <td>11.0</td>\n      <td>California</td>\n    </tr>\n    <tr>\n      <th>2</th>\n      <td>2017-09-01</td>\n      <td>Yeezy</td>\n      <td>Adidas Yeezy Boost 350 V2 Core Black Green</td>\n      <td>690</td>\n      <td>$220</td>\n      <td>2016-11-23</td>\n      <td>11.0</td>\n      <td>California</td>\n    </tr>\n    <tr>\n      <th>3</th>\n      <td>2017-09-01</td>\n      <td>Yeezy</td>\n      <td>Adidas Yeezy Boost 350 V2 Core Black Red</td>\n      <td>1075</td>\n      <td>$220</td>\n      <td>2016-11-23</td>\n      <td>11.5</td>\n      <td>Kentucky</td>\n    </tr>\n    <tr>\n      <th>4</th>\n      <td>2017-09-01</td>\n      <td>Yeezy</td>\n      <td>Adidas Yeezy Boost 350 V2 Core Black Red 2017</td>\n      <td>828</td>\n      <td>$220</td>\n      <td>2017-02-11</td>\n      <td>11.0</td>\n      <td>Rhode Island</td>\n    </tr>\n  </tbody>\n</table>\n</div>"
     },
     "metadata": {},
     "execution_count": 7
    }
   ],
   "source": [
    "# Remove $ and comma from sale price\n",
    "df['Sale Price'] = df['Sale Price'].apply(lambda x: x.replace('$', ''))\n",
    "df['Sale Price'] = df['Sale Price'].apply(lambda x: x.replace(',', ''))\n",
    "df.head()"
   ]
  },
  {
   "cell_type": "code",
   "execution_count": 8,
   "metadata": {},
   "outputs": [
    {
     "output_type": "execute_result",
     "data": {
      "text/plain": "  Order Date   Brand                                   Sneaker Name  \\\n0 2017-09-01   Yeezy           Adidas Yeezy Boost 350 Low V2 Beluga   \n1 2017-09-01   Yeezy    Adidas Yeezy Boost 350 V2 Core Black Copper   \n2 2017-09-01   Yeezy     Adidas Yeezy Boost 350 V2 Core Black Green   \n3 2017-09-01   Yeezy       Adidas Yeezy Boost 350 V2 Core Black Red   \n4 2017-09-01   Yeezy  Adidas Yeezy Boost 350 V2 Core Black Red 2017   \n\n  Sale Price Retail Price Release Date  Shoe Size  Buyer Region  \n0       1097          220   2016-09-24       11.0    California  \n1        685          220   2016-11-23       11.0    California  \n2        690          220   2016-11-23       11.0    California  \n3       1075          220   2016-11-23       11.5      Kentucky  \n4        828          220   2017-02-11       11.0  Rhode Island  ",
      "text/html": "<div>\n<style scoped>\n    .dataframe tbody tr th:only-of-type {\n        vertical-align: middle;\n    }\n\n    .dataframe tbody tr th {\n        vertical-align: top;\n    }\n\n    .dataframe thead th {\n        text-align: right;\n    }\n</style>\n<table border=\"1\" class=\"dataframe\">\n  <thead>\n    <tr style=\"text-align: right;\">\n      <th></th>\n      <th>Order Date</th>\n      <th>Brand</th>\n      <th>Sneaker Name</th>\n      <th>Sale Price</th>\n      <th>Retail Price</th>\n      <th>Release Date</th>\n      <th>Shoe Size</th>\n      <th>Buyer Region</th>\n    </tr>\n  </thead>\n  <tbody>\n    <tr>\n      <th>0</th>\n      <td>2017-09-01</td>\n      <td>Yeezy</td>\n      <td>Adidas Yeezy Boost 350 Low V2 Beluga</td>\n      <td>1097</td>\n      <td>220</td>\n      <td>2016-09-24</td>\n      <td>11.0</td>\n      <td>California</td>\n    </tr>\n    <tr>\n      <th>1</th>\n      <td>2017-09-01</td>\n      <td>Yeezy</td>\n      <td>Adidas Yeezy Boost 350 V2 Core Black Copper</td>\n      <td>685</td>\n      <td>220</td>\n      <td>2016-11-23</td>\n      <td>11.0</td>\n      <td>California</td>\n    </tr>\n    <tr>\n      <th>2</th>\n      <td>2017-09-01</td>\n      <td>Yeezy</td>\n      <td>Adidas Yeezy Boost 350 V2 Core Black Green</td>\n      <td>690</td>\n      <td>220</td>\n      <td>2016-11-23</td>\n      <td>11.0</td>\n      <td>California</td>\n    </tr>\n    <tr>\n      <th>3</th>\n      <td>2017-09-01</td>\n      <td>Yeezy</td>\n      <td>Adidas Yeezy Boost 350 V2 Core Black Red</td>\n      <td>1075</td>\n      <td>220</td>\n      <td>2016-11-23</td>\n      <td>11.5</td>\n      <td>Kentucky</td>\n    </tr>\n    <tr>\n      <th>4</th>\n      <td>2017-09-01</td>\n      <td>Yeezy</td>\n      <td>Adidas Yeezy Boost 350 V2 Core Black Red 2017</td>\n      <td>828</td>\n      <td>220</td>\n      <td>2017-02-11</td>\n      <td>11.0</td>\n      <td>Rhode Island</td>\n    </tr>\n  </tbody>\n</table>\n</div>"
     },
     "metadata": {},
     "execution_count": 8
    }
   ],
   "source": [
    "# Remove $ from retail price\n",
    "df['Retail Price'] = df['Retail Price'].apply(lambda x: x.replace('$', ''))\n",
    "df.head()"
   ]
  },
  {
   "cell_type": "code",
   "execution_count": 9,
   "metadata": {},
   "outputs": [],
   "source": [
    "df.to_csv('Clean_Shoe_Data.csv', index = False)"
   ]
  },
  {
   "cell_type": "code",
   "execution_count": null,
   "metadata": {},
   "outputs": [],
   "source": []
  }
 ]
}