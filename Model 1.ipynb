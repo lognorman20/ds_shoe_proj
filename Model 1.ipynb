{
 "metadata": {
  "language_info": {
   "codemirror_mode": {
    "name": "ipython",
    "version": 3
   },
   "file_extension": ".py",
   "mimetype": "text/x-python",
   "name": "python",
   "nbconvert_exporter": "python",
   "pygments_lexer": "ipython3",
   "version": 3
  },
  "orig_nbformat": 2,
  "kernelspec": {
   "name": "python_defaultSpec_1596733421813",
   "display_name": "Python 3.7.4 64-bit"
  }
 },
 "nbformat": 4,
 "nbformat_minor": 2,
 "cells": [
  {
   "cell_type": "code",
   "execution_count": 25,
   "metadata": {},
   "outputs": [],
   "source": [
    "import pandas as pd\n",
    "import numpy as np\n",
    "import seaborn as sns\n",
    "import matplotlib.pyplot as plt\n",
    "import matplotlib.ticker as plticker\n",
    "\n",
    "\n",
    "from sklearn.model_selection import train_test_split\n",
    "from sklearn.linear_model import LinearRegression\n",
    "from sklearn.metrics import mean_absolute_error\n",
    "from sklearn.model_selection import cross_val_score\n",
    "import statsmodels.api as sm"
   ]
  },
  {
   "cell_type": "code",
   "execution_count": 7,
   "metadata": {},
   "outputs": [
    {
     "output_type": "execute_result",
     "data": {
      "text/plain": "   Order Date   Brand                                   Sneaker Name  \\\n0  2017-09-01   Yeezy           Adidas Yeezy Boost 350 Low V2 Beluga   \n1  2017-09-01   Yeezy    Adidas Yeezy Boost 350 V2 Core Black Copper   \n2  2017-09-01   Yeezy     Adidas Yeezy Boost 350 V2 Core Black Green   \n3  2017-09-01   Yeezy       Adidas Yeezy Boost 350 V2 Core Black Red   \n4  2017-09-01   Yeezy  Adidas Yeezy Boost 350 V2 Core Black Red 2017   \n\n   Sale Price  Retail Price Release Date  Shoe Size  Buyer Region  \n0        1097           220   2016-09-24       11.0    California  \n1         685           220   2016-11-23       11.0    California  \n2         690           220   2016-11-23       11.0    California  \n3        1075           220   2016-11-23       11.5      Kentucky  \n4         828           220   2017-02-11       11.0  Rhode Island  ",
      "text/html": "<div>\n<style scoped>\n    .dataframe tbody tr th:only-of-type {\n        vertical-align: middle;\n    }\n\n    .dataframe tbody tr th {\n        vertical-align: top;\n    }\n\n    .dataframe thead th {\n        text-align: right;\n    }\n</style>\n<table border=\"1\" class=\"dataframe\">\n  <thead>\n    <tr style=\"text-align: right;\">\n      <th></th>\n      <th>Order Date</th>\n      <th>Brand</th>\n      <th>Sneaker Name</th>\n      <th>Sale Price</th>\n      <th>Retail Price</th>\n      <th>Release Date</th>\n      <th>Shoe Size</th>\n      <th>Buyer Region</th>\n    </tr>\n  </thead>\n  <tbody>\n    <tr>\n      <th>0</th>\n      <td>2017-09-01</td>\n      <td>Yeezy</td>\n      <td>Adidas Yeezy Boost 350 Low V2 Beluga</td>\n      <td>1097</td>\n      <td>220</td>\n      <td>2016-09-24</td>\n      <td>11.0</td>\n      <td>California</td>\n    </tr>\n    <tr>\n      <th>1</th>\n      <td>2017-09-01</td>\n      <td>Yeezy</td>\n      <td>Adidas Yeezy Boost 350 V2 Core Black Copper</td>\n      <td>685</td>\n      <td>220</td>\n      <td>2016-11-23</td>\n      <td>11.0</td>\n      <td>California</td>\n    </tr>\n    <tr>\n      <th>2</th>\n      <td>2017-09-01</td>\n      <td>Yeezy</td>\n      <td>Adidas Yeezy Boost 350 V2 Core Black Green</td>\n      <td>690</td>\n      <td>220</td>\n      <td>2016-11-23</td>\n      <td>11.0</td>\n      <td>California</td>\n    </tr>\n    <tr>\n      <th>3</th>\n      <td>2017-09-01</td>\n      <td>Yeezy</td>\n      <td>Adidas Yeezy Boost 350 V2 Core Black Red</td>\n      <td>1075</td>\n      <td>220</td>\n      <td>2016-11-23</td>\n      <td>11.5</td>\n      <td>Kentucky</td>\n    </tr>\n    <tr>\n      <th>4</th>\n      <td>2017-09-01</td>\n      <td>Yeezy</td>\n      <td>Adidas Yeezy Boost 350 V2 Core Black Red 2017</td>\n      <td>828</td>\n      <td>220</td>\n      <td>2017-02-11</td>\n      <td>11.0</td>\n      <td>Rhode Island</td>\n    </tr>\n  </tbody>\n</table>\n</div>"
     },
     "metadata": {},
     "execution_count": 7
    }
   ],
   "source": [
    "cleandata = pd.read_csv('Clean_Shoe_Data.csv')\n",
    "modeldata = cleandata.copy()\n",
    "modeldata.head()"
   ]
  },
  {
   "cell_type": "code",
   "execution_count": 17,
   "metadata": {},
   "outputs": [
    {
     "output_type": "execute_result",
     "data": {
      "text/plain": "   Sale Price  Retail Price  Shoe Size  Order Date_2017-09-01  \\\n0        1097           220       11.0                      1   \n1         685           220       11.0                      1   \n2         690           220       11.0                      1   \n3        1075           220       11.5                      1   \n4         828           220       11.0                      1   \n\n   Order Date_2017-09-02  Order Date_2017-09-03  Order Date_2017-09-04  \\\n0                      0                      0                      0   \n1                      0                      0                      0   \n2                      0                      0                      0   \n3                      0                      0                      0   \n4                      0                      0                      0   \n\n   Order Date_2017-09-05  Order Date_2017-09-06  Order Date_2017-09-07  ...  \\\n0                      0                      0                      0  ...   \n1                      0                      0                      0  ...   \n2                      0                      0                      0  ...   \n3                      0                      0                      0  ...   \n4                      0                      0                      0  ...   \n\n   Buyer Region_South Dakota  Buyer Region_Tennessee  Buyer Region_Texas  \\\n0                          0                       0                   0   \n1                          0                       0                   0   \n2                          0                       0                   0   \n3                          0                       0                   0   \n4                          0                       0                   0   \n\n   Buyer Region_Utah  Buyer Region_Vermont  Buyer Region_Virginia  \\\n0                  0                     0                      0   \n1                  0                     0                      0   \n2                  0                     0                      0   \n3                  0                     0                      0   \n4                  0                     0                      0   \n\n   Buyer Region_Washington  Buyer Region_West Virginia  \\\n0                        0                           0   \n1                        0                           0   \n2                        0                           0   \n3                        0                           0   \n4                        0                           0   \n\n   Buyer Region_Wisconsin  Buyer Region_Wyoming  \n0                       0                     0  \n1                       0                     0  \n2                       0                     0  \n3                       0                     0  \n4                       0                     0  \n\n[5 rows x 672 columns]",
      "text/html": "<div>\n<style scoped>\n    .dataframe tbody tr th:only-of-type {\n        vertical-align: middle;\n    }\n\n    .dataframe tbody tr th {\n        vertical-align: top;\n    }\n\n    .dataframe thead th {\n        text-align: right;\n    }\n</style>\n<table border=\"1\" class=\"dataframe\">\n  <thead>\n    <tr style=\"text-align: right;\">\n      <th></th>\n      <th>Sale Price</th>\n      <th>Retail Price</th>\n      <th>Shoe Size</th>\n      <th>Order Date_2017-09-01</th>\n      <th>Order Date_2017-09-02</th>\n      <th>Order Date_2017-09-03</th>\n      <th>Order Date_2017-09-04</th>\n      <th>Order Date_2017-09-05</th>\n      <th>Order Date_2017-09-06</th>\n      <th>Order Date_2017-09-07</th>\n      <th>...</th>\n      <th>Buyer Region_South Dakota</th>\n      <th>Buyer Region_Tennessee</th>\n      <th>Buyer Region_Texas</th>\n      <th>Buyer Region_Utah</th>\n      <th>Buyer Region_Vermont</th>\n      <th>Buyer Region_Virginia</th>\n      <th>Buyer Region_Washington</th>\n      <th>Buyer Region_West Virginia</th>\n      <th>Buyer Region_Wisconsin</th>\n      <th>Buyer Region_Wyoming</th>\n    </tr>\n  </thead>\n  <tbody>\n    <tr>\n      <th>0</th>\n      <td>1097</td>\n      <td>220</td>\n      <td>11.0</td>\n      <td>1</td>\n      <td>0</td>\n      <td>0</td>\n      <td>0</td>\n      <td>0</td>\n      <td>0</td>\n      <td>0</td>\n      <td>...</td>\n      <td>0</td>\n      <td>0</td>\n      <td>0</td>\n      <td>0</td>\n      <td>0</td>\n      <td>0</td>\n      <td>0</td>\n      <td>0</td>\n      <td>0</td>\n      <td>0</td>\n    </tr>\n    <tr>\n      <th>1</th>\n      <td>685</td>\n      <td>220</td>\n      <td>11.0</td>\n      <td>1</td>\n      <td>0</td>\n      <td>0</td>\n      <td>0</td>\n      <td>0</td>\n      <td>0</td>\n      <td>0</td>\n      <td>...</td>\n      <td>0</td>\n      <td>0</td>\n      <td>0</td>\n      <td>0</td>\n      <td>0</td>\n      <td>0</td>\n      <td>0</td>\n      <td>0</td>\n      <td>0</td>\n      <td>0</td>\n    </tr>\n    <tr>\n      <th>2</th>\n      <td>690</td>\n      <td>220</td>\n      <td>11.0</td>\n      <td>1</td>\n      <td>0</td>\n      <td>0</td>\n      <td>0</td>\n      <td>0</td>\n      <td>0</td>\n      <td>0</td>\n      <td>...</td>\n      <td>0</td>\n      <td>0</td>\n      <td>0</td>\n      <td>0</td>\n      <td>0</td>\n      <td>0</td>\n      <td>0</td>\n      <td>0</td>\n      <td>0</td>\n      <td>0</td>\n    </tr>\n    <tr>\n      <th>3</th>\n      <td>1075</td>\n      <td>220</td>\n      <td>11.5</td>\n      <td>1</td>\n      <td>0</td>\n      <td>0</td>\n      <td>0</td>\n      <td>0</td>\n      <td>0</td>\n      <td>0</td>\n      <td>...</td>\n      <td>0</td>\n      <td>0</td>\n      <td>0</td>\n      <td>0</td>\n      <td>0</td>\n      <td>0</td>\n      <td>0</td>\n      <td>0</td>\n      <td>0</td>\n      <td>0</td>\n    </tr>\n    <tr>\n      <th>4</th>\n      <td>828</td>\n      <td>220</td>\n      <td>11.0</td>\n      <td>1</td>\n      <td>0</td>\n      <td>0</td>\n      <td>0</td>\n      <td>0</td>\n      <td>0</td>\n      <td>0</td>\n      <td>...</td>\n      <td>0</td>\n      <td>0</td>\n      <td>0</td>\n      <td>0</td>\n      <td>0</td>\n      <td>0</td>\n      <td>0</td>\n      <td>0</td>\n      <td>0</td>\n      <td>0</td>\n    </tr>\n  </tbody>\n</table>\n<p>5 rows × 672 columns</p>\n</div>"
     },
     "metadata": {},
     "execution_count": 17
    }
   ],
   "source": [
    "# This step might be an issue. The shape of this df is (99956, 669).\n",
    "df_dum = pd.get_dummies(modeldata)\n",
    "df_dum.head()"
   ]
  },
  {
   "cell_type": "code",
   "execution_count": 18,
   "metadata": {},
   "outputs": [],
   "source": [
    "X = df_dum.drop('Sale Price', axis = 1)\n",
    "y = df_dum['Sale Price'].values"
   ]
  },
  {
   "cell_type": "code",
   "execution_count": 28,
   "metadata": {},
   "outputs": [],
   "source": [
    "X_train, X_test, y_train, y_test = train_test_split(X, y, test_size = 0.2, random_state = 12)"
   ]
  },
  {
   "cell_type": "code",
   "execution_count": 20,
   "metadata": {},
   "outputs": [],
   "source": [
    "# Multiple linear regression\n",
    "X_sm = X = sm.add_constant(X)"
   ]
  },
  {
   "cell_type": "code",
   "execution_count": 21,
   "metadata": {},
   "outputs": [],
   "source": [
    "model = sm.OLS(y, X_sm)"
   ]
  },
  {
   "cell_type": "code",
   "execution_count": null,
   "metadata": {},
   "outputs": [],
   "source": [
    "# @hidden_cell\n",
    "model.fit().summary()"
   ]
  },
  {
   "cell_type": "code",
   "execution_count": 26,
   "metadata": {},
   "outputs": [],
   "source": [
    "lm = LinearRegression()"
   ]
  },
  {
   "cell_type": "code",
   "execution_count": 29,
   "metadata": {},
   "outputs": [
    {
     "output_type": "execute_result",
     "data": {
      "text/plain": "LinearRegression()"
     },
     "metadata": {},
     "execution_count": 29
    }
   ],
   "source": [
    "lm.fit(X_train, y_train)"
   ]
  },
  {
   "cell_type": "code",
   "execution_count": 33,
   "metadata": {},
   "outputs": [
    {
     "output_type": "execute_result",
     "data": {
      "text/plain": "-54.773008968066186"
     },
     "metadata": {},
     "execution_count": 33
    }
   ],
   "source": [
    "cross_val_score(lm, X_train, y_train, scoring = 'neg_mean_absolute_error', cv = 5).mean()"
   ]
  },
  {
   "cell_type": "code",
   "execution_count": null,
   "metadata": {},
   "outputs": [],
   "source": []
  }
 ]
}